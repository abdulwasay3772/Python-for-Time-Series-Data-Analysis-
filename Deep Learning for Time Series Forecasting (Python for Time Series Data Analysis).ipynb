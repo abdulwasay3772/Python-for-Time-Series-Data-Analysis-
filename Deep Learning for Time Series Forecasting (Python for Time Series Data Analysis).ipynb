{
 "cells": [
  {
   "cell_type": "markdown",
   "id": "e1c4d6d6",
   "metadata": {},
   "source": [
    "# Keras Basics"
   ]
  },
  {
   "cell_type": "code",
   "execution_count": 30,
   "id": "5cba2a4c",
   "metadata": {},
   "outputs": [],
   "source": [
    "## safely ignore any warnings on importing this\n",
    "import keras\n",
    "import matplotlib.pyplot as plt\n",
    "import pandas as pd\n",
    "import numpy as np"
   ]
  },
  {
   "cell_type": "markdown",
   "id": "171edc21",
   "metadata": {},
   "source": [
    "## Simple y = mx + b + noise data"
   ]
  },
  {
   "cell_type": "code",
   "execution_count": 31,
   "id": "cf196b98",
   "metadata": {},
   "outputs": [],
   "source": [
    "m = 2\n",
    "b = 3\n",
    "x = np.linspace(0,50,100)"
   ]
  },
  {
   "cell_type": "code",
   "execution_count": 32,
   "id": "4cb81ed4",
   "metadata": {},
   "outputs": [],
   "source": [
    "## for adding noise\n",
    "## 101 is an arbitrary choice to make sure your random values are same as mine!\n",
    "np.random.seed(101) \n",
    "noise = np.random.normal(loc=0.0,scale=4.0,size=len(x))"
   ]
  },
  {
   "cell_type": "code",
   "execution_count": 33,
   "id": "86d14b50",
   "metadata": {},
   "outputs": [
    {
     "data": {
      "text/plain": [
       "array([ 0.        ,  0.50505051,  1.01010101,  1.51515152,  2.02020202,\n",
       "        2.52525253,  3.03030303,  3.53535354,  4.04040404,  4.54545455,\n",
       "        5.05050505,  5.55555556,  6.06060606,  6.56565657,  7.07070707,\n",
       "        7.57575758,  8.08080808,  8.58585859,  9.09090909,  9.5959596 ,\n",
       "       10.1010101 , 10.60606061, 11.11111111, 11.61616162, 12.12121212,\n",
       "       12.62626263, 13.13131313, 13.63636364, 14.14141414, 14.64646465,\n",
       "       15.15151515, 15.65656566, 16.16161616, 16.66666667, 17.17171717,\n",
       "       17.67676768, 18.18181818, 18.68686869, 19.19191919, 19.6969697 ,\n",
       "       20.2020202 , 20.70707071, 21.21212121, 21.71717172, 22.22222222,\n",
       "       22.72727273, 23.23232323, 23.73737374, 24.24242424, 24.74747475,\n",
       "       25.25252525, 25.75757576, 26.26262626, 26.76767677, 27.27272727,\n",
       "       27.77777778, 28.28282828, 28.78787879, 29.29292929, 29.7979798 ,\n",
       "       30.3030303 , 30.80808081, 31.31313131, 31.81818182, 32.32323232,\n",
       "       32.82828283, 33.33333333, 33.83838384, 34.34343434, 34.84848485,\n",
       "       35.35353535, 35.85858586, 36.36363636, 36.86868687, 37.37373737,\n",
       "       37.87878788, 38.38383838, 38.88888889, 39.39393939, 39.8989899 ,\n",
       "       40.4040404 , 40.90909091, 41.41414141, 41.91919192, 42.42424242,\n",
       "       42.92929293, 43.43434343, 43.93939394, 44.44444444, 44.94949495,\n",
       "       45.45454545, 45.95959596, 46.46464646, 46.96969697, 47.47474747,\n",
       "       47.97979798, 48.48484848, 48.98989899, 49.49494949, 50.        ])"
      ]
     },
     "execution_count": 33,
     "metadata": {},
     "output_type": "execute_result"
    }
   ],
   "source": [
    "x"
   ]
  },
  {
   "cell_type": "code",
   "execution_count": 34,
   "id": "2c00f886",
   "metadata": {},
   "outputs": [],
   "source": [
    "## y = mx + b + noise \n",
    "y = 2*x + b + noise"
   ]
  },
  {
   "cell_type": "code",
   "execution_count": 35,
   "id": "fcd9b6da",
   "metadata": {},
   "outputs": [
    {
     "data": {
      "text/plain": [
       "[<matplotlib.lines.Line2D at 0x2b077b26348>]"
      ]
     },
     "execution_count": 35,
     "metadata": {},
     "output_type": "execute_result"
    },
    {
     "data": {
      "image/png": "[encoded data removed]",
      "text/plain": [
       "<Figure size 432x288 with 1 Axes>"
      ]
     },
     "metadata": {
      "needs_background": "light"
     },
     "output_type": "display_data"
    }
   ],
   "source": [
    "## plot the data\n",
    "plt.plot(x,y,'*')"
   ]
  },
  {
   "cell_type": "markdown",
   "id": "83c91909",
   "metadata": {},
   "source": [
    "## Creating a Neural Network for a Line of Best Fit"
   ]
  },
  {
   "cell_type": "code",
   "execution_count": 36,
   "id": "a849e8db",
   "metadata": {},
   "outputs": [],
   "source": [
    "## sequential means to adding the layers in keras\n",
    "from keras.models import Sequential"
   ]
  },
  {
   "cell_type": "code",
   "execution_count": 37,
   "id": "76566981",
   "metadata": {},
   "outputs": [],
   "source": [
    "## for dense layer\n",
    "## all the neurons of the previous layer connected to the previous layer\n",
    "from keras.layers import Dense"
   ]
  },
  {
   "cell_type": "code",
   "execution_count": 38,
   "id": "bce8f3e9",
   "metadata": {},
   "outputs": [],
   "source": [
    "model = Sequential()\n",
    "## 4 Neurons, expecting only 1 feature with input_dim=1\n",
    "model.add(Dense(4, input_dim=1, activation='relu'))\n",
    "## 4 Neurons (Play around with this number!)\n",
    "model.add(Dense(4, activation='relu'))\n",
    "## One final output of y, so only 1 neuron\n",
    "model.add(Dense(1, activation='linear'))\n",
    "## Compile the layers\n",
    "model.compile(loss='mse', optimizer='adam')"
   ]
  },
  {
   "cell_type": "code",
   "execution_count": 39,
   "id": "8b57c973",
   "metadata": {},
   "outputs": [
    {
     "name": "stdout",
     "output_type": "stream",
     "text": [
      "Model: \"sequential_1\"\n",
      "_________________________________________________________________\n",
      " Layer (type)                Output Shape              Param #   \n",
      "=================================================================\n",
      " dense_3 (Dense)             (None, 4)                 8         \n",
      "                                                                 \n",
      " dense_4 (Dense)             (None, 4)                 20        \n",
      "                                                                 \n",
      " dense_5 (Dense)             (None, 1)                 5         \n",
      "                                                                 \n",
      "=================================================================\n",
      "Total params: 33\n",
      "Trainable params: 33\n",
      "Non-trainable params: 0\n",
      "_________________________________________________________________\n"
     ]
    }
   ],
   "source": [
    "model.summary()"
   ]
  },
  {
   "cell_type": "markdown",
   "id": "9f2c90b4",
   "metadata": {},
   "source": [
    "## Train on Data\n",
    "\n",
    "** NOTE: FOR THIS SIMPLE EXAMPLE, I WILL SKIP THE TRAIN TEST SPLIT!!!! **"
   ]
  },
  {
   "cell_type": "code",
   "execution_count": 40,
   "id": "a63765a7",
   "metadata": {},
   "outputs": [
    {
     "name": "stdout",
     "output_type": "stream",
     "text": [
      "Epoch 1/200\n",
      "WARNING:tensorflow:AutoGraph could not transform <function Model.make_train_function.<locals>.train_function at 0x000002B077D42A68> and will run it as-is.\n",
      "Please report this to the TensorFlow team. When filing the bug, set the verbosity to 10 (on Linux, `export AUTOGRAPH_VERBOSITY=10`) and attach the full output.\n",
      "Cause: 'arguments' object has no attribute 'posonlyargs'\n",
      "To silence this warning, decorate the function with @tf.autograph.experimental.do_not_convert\n",
      "WARNING: AutoGraph could not transform <function Model.make_train_function.<locals>.train_function at 0x000002B077D42A68> and will run it as-is.\n",
      "Please report this to the TensorFlow team. When filing the bug, set the verbosity to 10 (on Linux, `export AUTOGRAPH_VERBOSITY=10`) and attach the full output.\n",
      "Cause: 'arguments' object has no attribute 'posonlyargs'\n",
      "To silence this warning, decorate the function with @tf.autograph.experimental.do_not_convert\n",
      "4/4 [==============================] - 1s 3ms/step - loss: 3149.3486\n",
      "Epoch 2/200\n",
      "4/4 [==============================] - 0s 3ms/step - loss: 3132.0735\n",
      "Epoch 3/200\n",
      "4/4 [==============================] - 0s 3ms/step - loss: 3114.7542\n",
      "Epoch 4/200\n",
      "4/4 [==============================] - 0s 4ms/step - loss: 3097.3704\n",
      "Epoch 5/200\n",
      "4/4 [==============================] - 0s 3ms/step - loss: 3079.2087\n",
      "Epoch 6/200\n",
      "4/4 [==============================] - 0s 5ms/step - loss: 3062.3506\n",
      "Epoch 7/200\n",
      "4/4 [==============================] - 0s 3ms/step - loss: 3044.5015\n",
      "Epoch 8/200\n",
      "4/4 [==============================] - 0s 4ms/step - loss: 3027.0024\n",
      "Epoch 9/200\n",
      "4/4 [==============================] - 0s 2ms/step - loss: 3008.8906\n",
      "Epoch 10/200\n",
      "4/4 [==============================] - 0s 4ms/step - loss: 2990.6863\n",
      "Epoch 11/200\n",
      "4/4 [==============================] - 0s 3ms/step - loss: 2971.6326\n",
      "Epoch 12/200\n",
      "4/4 [==============================] - 0s 4ms/step - loss: 2952.0171\n",
      "Epoch 13/200\n",
      "4/4 [==============================] - 0s 2ms/step - loss: 2932.0483\n",
      "Epoch 14/200\n",
      "4/4 [==============================] - 0s 3ms/step - loss: 2911.1633\n",
      "Epoch 15/200\n",
      "4/4 [==============================] - 0s 3ms/step - loss: 2891.1582\n",
      "Epoch 16/200\n",
      "4/4 [==============================] - 0s 4ms/step - loss: 2870.8149\n",
      "Epoch 17/200\n",
      "4/4 [==============================] - 0s 2ms/step - loss: 2850.3269\n",
      "Epoch 18/200\n",
      "4/4 [==============================] - 0s 3ms/step - loss: 2828.6414\n",
      "Epoch 19/200\n",
      "4/4 [==============================] - 0s 6ms/step - loss: 2806.5242\n",
      "Epoch 20/200\n",
      "4/4 [==============================] - 0s 3ms/step - loss: 2784.7549\n",
      "Epoch 21/200\n",
      "4/4 [==============================] - 0s 3ms/step - loss: 2762.6260\n",
      "Epoch 22/200\n",
      "4/4 [==============================] - 0s 2ms/step - loss: 2739.0063\n",
      "Epoch 23/200\n",
      "4/4 [==============================] - 0s 3ms/step - loss: 2714.1638\n",
      "Epoch 24/200\n",
      "4/4 [==============================] - 0s 4ms/step - loss: 2688.5154\n",
      "Epoch 25/200\n",
      "4/4 [==============================] - 0s 3ms/step - loss: 2663.4016\n",
      "Epoch 26/200\n",
      "4/4 [==============================] - 0s 4ms/step - loss: 2637.7686\n",
      "Epoch 27/200\n",
      "4/4 [==============================] - 0s 3ms/step - loss: 2612.9268\n",
      "Epoch 28/200\n",
      "4/4 [==============================] - 0s 4ms/step - loss: 2586.6775\n",
      "Epoch 29/200\n",
      "4/4 [==============================] - 0s 4ms/step - loss: 2561.1443\n",
      "Epoch 30/200\n",
      "4/4 [==============================] - 0s 5ms/step - loss: 2534.1128\n",
      "Epoch 31/200\n",
      "4/4 [==============================] - 0s 4ms/step - loss: 2506.3459\n",
      "Epoch 32/200\n",
      "4/4 [==============================] - 0s 5ms/step - loss: 2477.7822\n",
      "Epoch 33/200\n",
      "4/4 [==============================] - 0s 4ms/step - loss: 2449.8284\n",
      "Epoch 34/200\n",
      "4/4 [==============================] - 0s 4ms/step - loss: 2419.8052\n",
      "Epoch 35/200\n",
      "4/4 [==============================] - 0s 3ms/step - loss: 2391.5481\n",
      "Epoch 36/200\n",
      "4/4 [==============================] - 0s 3ms/step - loss: 2362.9185\n",
      "Epoch 37/200\n",
      "4/4 [==============================] - 0s 2ms/step - loss: 2333.6370\n",
      "Epoch 38/200\n",
      "4/4 [==============================] - 0s 2ms/step - loss: 2303.7727\n",
      "Epoch 39/200\n",
      "4/4 [==============================] - 0s 3ms/step - loss: 2273.7900\n",
      "Epoch 40/200\n",
      "4/4 [==============================] - 0s 3ms/step - loss: 2243.3669\n",
      "Epoch 41/200\n",
      "4/4 [==============================] - 0s 3ms/step - loss: 2212.2380\n",
      "Epoch 42/200\n",
      "4/4 [==============================] - 0s 2ms/step - loss: 2182.5891\n",
      "Epoch 43/200\n",
      "4/4 [==============================] - 0s 3ms/step - loss: 2149.4429\n",
      "Epoch 44/200\n",
      "4/4 [==============================] - 0s 2ms/step - loss: 2119.4946\n",
      "Epoch 45/200\n",
      "4/4 [==============================] - 0s 3ms/step - loss: 2086.4082\n",
      "Epoch 46/200\n",
      "4/4 [==============================] - 0s 4ms/step - loss: 2053.5234\n",
      "Epoch 47/200\n",
      "4/4 [==============================] - 0s 2ms/step - loss: 2021.1097\n",
      "Epoch 48/200\n",
      "4/4 [==============================] - 0s 3ms/step - loss: 1987.9524\n",
      "Epoch 49/200\n",
      "4/4 [==============================] - 0s 2ms/step - loss: 1956.2460\n",
      "Epoch 50/200\n",
      "4/4 [==============================] - 0s 3ms/step - loss: 1921.9943\n",
      "Epoch 51/200\n",
      "4/4 [==============================] - 0s 3ms/step - loss: 1888.0386\n",
      "Epoch 52/200\n",
      "4/4 [==============================] - 0s 3ms/step - loss: 1853.0643\n",
      "Epoch 53/200\n",
      "4/4 [==============================] - 0s 3ms/step - loss: 1817.3975\n",
      "Epoch 54/200\n",
      "4/4 [==============================] - 0s 3ms/step - loss: 1783.9904\n",
      "Epoch 55/200\n",
      "4/4 [==============================] - 0s 3ms/step - loss: 1748.3782\n",
      "Epoch 56/200\n",
      "4/4 [==============================] - 0s 3ms/step - loss: 1713.6625\n",
      "Epoch 57/200\n",
      "4/4 [==============================] - 0s 3ms/step - loss: 1679.4061\n",
      "Epoch 58/200\n",
      "4/4 [==============================] - 0s 3ms/step - loss: 1642.4954\n",
      "Epoch 59/200\n",
      "4/4 [==============================] - 0s 3ms/step - loss: 1607.1758\n",
      "Epoch 60/200\n",
      "4/4 [==============================] - 0s 5ms/step - loss: 1572.6196\n",
      "Epoch 61/200\n",
      "4/4 [==============================] - 0s 4ms/step - loss: 1535.5125\n",
      "Epoch 62/200\n",
      "4/4 [==============================] - 0s 3ms/step - loss: 1500.4415\n",
      "Epoch 63/200\n",
      "4/4 [==============================] - 0s 4ms/step - loss: 1465.2605\n",
      "Epoch 64/200\n",
      "4/4 [==============================] - 0s 3ms/step - loss: 1430.8743\n",
      "Epoch 65/200\n",
      "4/4 [==============================] - 0s 3ms/step - loss: 1395.0090\n",
      "Epoch 66/200\n",
      "4/4 [==============================] - 0s 2ms/step - loss: 1360.5083\n",
      "Epoch 67/200\n",
      "4/4 [==============================] - 0s 3ms/step - loss: 1323.6930\n",
      "Epoch 68/200\n",
      "4/4 [==============================] - 0s 4ms/step - loss: 1286.6726\n",
      "Epoch 69/200\n",
      "4/4 [==============================] - 0s 4ms/step - loss: 1249.6687\n",
      "Epoch 70/200\n",
      "4/4 [==============================] - 0s 3ms/step - loss: 1213.9158\n",
      "Epoch 71/200\n",
      "4/4 [==============================] - 0s 4ms/step - loss: 1178.1865\n",
      "Epoch 72/200\n",
      "4/4 [==============================] - 0s 3ms/step - loss: 1144.2831\n",
      "Epoch 73/200\n",
      "4/4 [==============================] - 0s 4ms/step - loss: 1111.1227\n",
      "Epoch 74/200\n",
      "4/4 [==============================] - 0s 4ms/step - loss: 1077.2629\n",
      "Epoch 75/200\n",
      "4/4 [==============================] - 0s 2ms/step - loss: 1043.3807\n",
      "Epoch 76/200\n",
      "4/4 [==============================] - 0s 3ms/step - loss: 1012.2238\n",
      "Epoch 77/200\n",
      "4/4 [==============================] - 0s 4ms/step - loss: 978.9005\n",
      "Epoch 78/200\n",
      "4/4 [==============================] - 0s 3ms/step - loss: 946.4067\n",
      "Epoch 79/200\n",
      "4/4 [==============================] - 0s 3ms/step - loss: 913.3610\n",
      "Epoch 80/200\n",
      "4/4 [==============================] - 0s 2ms/step - loss: 881.0751\n",
      "Epoch 81/200\n",
      "4/4 [==============================] - 0s 3ms/step - loss: 849.7106\n",
      "Epoch 82/200\n",
      "4/4 [==============================] - 0s 3ms/step - loss: 819.4872\n",
      "Epoch 83/200\n",
      "4/4 [==============================] - 0s 2ms/step - loss: 789.8046\n",
      "Epoch 84/200\n",
      "4/4 [==============================] - 0s 3ms/step - loss: 760.6992\n",
      "Epoch 85/200\n",
      "4/4 [==============================] - 0s 3ms/step - loss: 732.4504\n",
      "Epoch 86/200\n",
      "4/4 [==============================] - 0s 5ms/step - loss: 704.5599\n",
      "Epoch 87/200\n",
      "4/4 [==============================] - 0s 4ms/step - loss: 677.3353\n",
      "Epoch 88/200\n",
      "4/4 [==============================] - 0s 4ms/step - loss: 649.6707\n",
      "Epoch 89/200\n"
     ]
    },
    {
     "name": "stdout",
     "output_type": "stream",
     "text": [
      "4/4 [==============================] - 0s 4ms/step - loss: 625.2449\n",
      "Epoch 90/200\n",
      "4/4 [==============================] - 0s 3ms/step - loss: 600.9021\n",
      "Epoch 91/200\n",
      "4/4 [==============================] - 0s 3ms/step - loss: 576.9493\n",
      "Epoch 92/200\n",
      "4/4 [==============================] - 0s 3ms/step - loss: 553.5266\n",
      "Epoch 93/200\n",
      "4/4 [==============================] - 0s 3ms/step - loss: 530.9896\n",
      "Epoch 94/200\n",
      "4/4 [==============================] - 0s 3ms/step - loss: 507.4644\n",
      "Epoch 95/200\n",
      "4/4 [==============================] - 0s 4ms/step - loss: 484.2237\n",
      "Epoch 96/200\n",
      "4/4 [==============================] - 0s 3ms/step - loss: 463.3587\n",
      "Epoch 97/200\n",
      "4/4 [==============================] - 0s 3ms/step - loss: 442.2638\n",
      "Epoch 98/200\n",
      "4/4 [==============================] - 0s 3ms/step - loss: 421.8280\n",
      "Epoch 99/200\n",
      "4/4 [==============================] - 0s 3ms/step - loss: 401.4517\n",
      "Epoch 100/200\n",
      "4/4 [==============================] - 0s 3ms/step - loss: 381.0226\n",
      "Epoch 101/200\n",
      "4/4 [==============================] - 0s 3ms/step - loss: 361.8214\n",
      "Epoch 102/200\n",
      "4/4 [==============================] - 0s 3ms/step - loss: 342.3746\n",
      "Epoch 103/200\n",
      "4/4 [==============================] - 0s 4ms/step - loss: 324.3625\n",
      "Epoch 104/200\n",
      "4/4 [==============================] - 0s 3ms/step - loss: 306.9903\n",
      "Epoch 105/200\n",
      "4/4 [==============================] - 0s 4ms/step - loss: 290.4174\n",
      "Epoch 106/200\n",
      "4/4 [==============================] - 0s 4ms/step - loss: 274.9967\n",
      "Epoch 107/200\n",
      "4/4 [==============================] - 0s 3ms/step - loss: 259.8222\n",
      "Epoch 108/200\n",
      "4/4 [==============================] - 0s 3ms/step - loss: 245.8087\n",
      "Epoch 109/200\n",
      "4/4 [==============================] - 0s 2ms/step - loss: 231.6059\n",
      "Epoch 110/200\n",
      "4/4 [==============================] - 0s 2ms/step - loss: 218.3635\n",
      "Epoch 111/200\n",
      "4/4 [==============================] - 0s 2ms/step - loss: 205.4146\n",
      "Epoch 112/200\n",
      "4/4 [==============================] - 0s 3ms/step - loss: 193.1060\n",
      "Epoch 113/200\n",
      "4/4 [==============================] - 0s 3ms/step - loss: 181.0853\n",
      "Epoch 114/200\n",
      "4/4 [==============================] - 0s 3ms/step - loss: 169.8739\n",
      "Epoch 115/200\n",
      "4/4 [==============================] - 0s 3ms/step - loss: 159.6024\n",
      "Epoch 116/200\n",
      "4/4 [==============================] - 0s 5ms/step - loss: 150.2846\n",
      "Epoch 117/200\n",
      "4/4 [==============================] - 0s 4ms/step - loss: 140.9926\n",
      "Epoch 118/200\n",
      "4/4 [==============================] - 0s 3ms/step - loss: 132.1270\n",
      "Epoch 119/200\n",
      "4/4 [==============================] - 0s 3ms/step - loss: 124.1085\n",
      "Epoch 120/200\n",
      "4/4 [==============================] - 0s 3ms/step - loss: 116.2134\n",
      "Epoch 121/200\n",
      "4/4 [==============================] - 0s 5ms/step - loss: 108.6580\n",
      "Epoch 122/200\n",
      "4/4 [==============================] - 0s 2ms/step - loss: 101.9753\n",
      "Epoch 123/200\n",
      "4/4 [==============================] - 0s 3ms/step - loss: 95.4820\n",
      "Epoch 124/200\n",
      "4/4 [==============================] - 0s 3ms/step - loss: 89.3485\n",
      "Epoch 125/200\n",
      "4/4 [==============================] - 0s 3ms/step - loss: 84.0093\n",
      "Epoch 126/200\n",
      "4/4 [==============================] - 0s 3ms/step - loss: 78.4267\n",
      "Epoch 127/200\n",
      "4/4 [==============================] - 0s 3ms/step - loss: 73.3693\n",
      "Epoch 128/200\n",
      "4/4 [==============================] - 0s 2ms/step - loss: 68.8935\n",
      "Epoch 129/200\n",
      "4/4 [==============================] - 0s 3ms/step - loss: 64.4630\n",
      "Epoch 130/200\n",
      "4/4 [==============================] - 0s 4ms/step - loss: 60.6116\n",
      "Epoch 131/200\n",
      "4/4 [==============================] - 0s 2ms/step - loss: 57.2824\n",
      "Epoch 132/200\n",
      "4/4 [==============================] - 0s 2ms/step - loss: 53.9526\n",
      "Epoch 133/200\n",
      "4/4 [==============================] - 0s 2ms/step - loss: 50.8884\n",
      "Epoch 134/200\n",
      "4/4 [==============================] - 0s 3ms/step - loss: 48.1072\n",
      "Epoch 135/200\n",
      "4/4 [==============================] - 0s 3ms/step - loss: 45.5367\n",
      "Epoch 136/200\n",
      "4/4 [==============================] - 0s 2ms/step - loss: 43.1449\n",
      "Epoch 137/200\n",
      "4/4 [==============================] - 0s 2ms/step - loss: 40.8919\n",
      "Epoch 138/200\n",
      "4/4 [==============================] - 0s 3ms/step - loss: 38.8876\n",
      "Epoch 139/200\n",
      "4/4 [==============================] - 0s 3ms/step - loss: 37.1259\n",
      "Epoch 140/200\n",
      "4/4 [==============================] - 0s 3ms/step - loss: 35.4061\n",
      "Epoch 141/200\n",
      "4/4 [==============================] - 0s 3ms/step - loss: 33.8447\n",
      "Epoch 142/200\n",
      "4/4 [==============================] - 0s 3ms/step - loss: 32.3760\n",
      "Epoch 143/200\n",
      "4/4 [==============================] - 0s 3ms/step - loss: 31.0116\n",
      "Epoch 144/200\n",
      "4/4 [==============================] - 0s 3ms/step - loss: 29.7755\n",
      "Epoch 145/200\n",
      "4/4 [==============================] - 0s 3ms/step - loss: 28.5314\n",
      "Epoch 146/200\n",
      "4/4 [==============================] - 0s 3ms/step - loss: 27.5412\n",
      "Epoch 147/200\n",
      "4/4 [==============================] - 0s 2ms/step - loss: 26.5975\n",
      "Epoch 148/200\n",
      "4/4 [==============================] - 0s 3ms/step - loss: 25.7546\n",
      "Epoch 149/200\n",
      "4/4 [==============================] - 0s 6ms/step - loss: 24.9508\n",
      "Epoch 150/200\n",
      "4/4 [==============================] - 0s 4ms/step - loss: 24.2349\n",
      "Epoch 151/200\n",
      "4/4 [==============================] - 0s 4ms/step - loss: 23.5582\n",
      "Epoch 152/200\n",
      "4/4 [==============================] - 0s 3ms/step - loss: 22.9480\n",
      "Epoch 153/200\n",
      "4/4 [==============================] - 0s 3ms/step - loss: 22.4383\n",
      "Epoch 154/200\n",
      "4/4 [==============================] - 0s 3ms/step - loss: 21.9066\n",
      "Epoch 155/200\n",
      "4/4 [==============================] - 0s 2ms/step - loss: 21.4436\n",
      "Epoch 156/200\n",
      "4/4 [==============================] - 0s 3ms/step - loss: 21.0314\n",
      "Epoch 157/200\n",
      "4/4 [==============================] - 0s 3ms/step - loss: 20.6911\n",
      "Epoch 158/200\n",
      "4/4 [==============================] - 0s 3ms/step - loss: 20.4340\n",
      "Epoch 159/200\n",
      "4/4 [==============================] - 0s 4ms/step - loss: 20.1798\n",
      "Epoch 160/200\n",
      "4/4 [==============================] - 0s 2ms/step - loss: 19.9994\n",
      "Epoch 161/200\n",
      "4/4 [==============================] - 0s 3ms/step - loss: 19.8272\n",
      "Epoch 162/200\n",
      "4/4 [==============================] - 0s 3ms/step - loss: 19.7034\n",
      "Epoch 163/200\n",
      "4/4 [==============================] - 0s 3ms/step - loss: 19.5649\n",
      "Epoch 164/200\n",
      "4/4 [==============================] - 0s 2ms/step - loss: 19.4116\n",
      "Epoch 165/200\n",
      "4/4 [==============================] - 0s 3ms/step - loss: 19.3058\n",
      "Epoch 166/200\n",
      "4/4 [==============================] - 0s 3ms/step - loss: 19.1833\n",
      "Epoch 167/200\n",
      "4/4 [==============================] - 0s 2ms/step - loss: 19.0871\n",
      "Epoch 168/200\n",
      "4/4 [==============================] - 0s 2ms/step - loss: 19.0101\n",
      "Epoch 169/200\n",
      "4/4 [==============================] - 0s 2ms/step - loss: 18.9236\n",
      "Epoch 170/200\n",
      "4/4 [==============================] - 0s 3ms/step - loss: 18.8414\n",
      "Epoch 171/200\n",
      "4/4 [==============================] - 0s 2ms/step - loss: 18.7539\n",
      "Epoch 172/200\n",
      "4/4 [==============================] - 0s 4ms/step - loss: 18.6911\n",
      "Epoch 173/200\n",
      "4/4 [==============================] - 0s 3ms/step - loss: 18.6075\n",
      "Epoch 174/200\n",
      "4/4 [==============================] - 0s 3ms/step - loss: 18.5205\n",
      "Epoch 175/200\n",
      "4/4 [==============================] - 0s 2ms/step - loss: 18.4660\n",
      "Epoch 176/200\n",
      "4/4 [==============================] - 0s 2ms/step - loss: 18.4173\n",
      "Epoch 177/200\n",
      "4/4 [==============================] - 0s 3ms/step - loss: 18.3855\n",
      "Epoch 178/200\n",
      "4/4 [==============================] - 0s 2ms/step - loss: 18.3540\n",
      "Epoch 179/200\n",
      "4/4 [==============================] - 0s 2ms/step - loss: 18.3188\n",
      "Epoch 180/200\n",
      "4/4 [==============================] - 0s 3ms/step - loss: 18.2830\n",
      "Epoch 181/200\n",
      "4/4 [==============================] - 0s 2ms/step - loss: 18.2499\n",
      "Epoch 182/200\n",
      "4/4 [==============================] - 0s 3ms/step - loss: 18.2372\n",
      "Epoch 183/200\n",
      "4/4 [==============================] - 0s 2ms/step - loss: 18.2155\n",
      "Epoch 184/200\n",
      "4/4 [==============================] - 0s 3ms/step - loss: 18.1941\n",
      "Epoch 185/200\n",
      "4/4 [==============================] - 0s 3ms/step - loss: 18.1795\n",
      "Epoch 186/200\n",
      "4/4 [==============================] - 0s 2ms/step - loss: 18.1726\n",
      "Epoch 187/200\n",
      "4/4 [==============================] - 0s 2ms/step - loss: 18.1663\n",
      "Epoch 188/200\n",
      "4/4 [==============================] - 0s 2ms/step - loss: 18.1592\n",
      "Epoch 189/200\n",
      "4/4 [==============================] - 0s 3ms/step - loss: 18.1548\n",
      "Epoch 190/200\n"
     ]
    },
    {
     "name": "stdout",
     "output_type": "stream",
     "text": [
      "4/4 [==============================] - 0s 4ms/step - loss: 18.1444\n",
      "Epoch 191/200\n",
      "4/4 [==============================] - 0s 3ms/step - loss: 18.1439\n",
      "Epoch 192/200\n",
      "4/4 [==============================] - 0s 3ms/step - loss: 18.1391\n",
      "Epoch 193/200\n",
      "4/4 [==============================] - 0s 3ms/step - loss: 18.1313\n",
      "Epoch 194/200\n",
      "4/4 [==============================] - 0s 3ms/step - loss: 18.1277\n",
      "Epoch 195/200\n",
      "4/4 [==============================] - 0s 3ms/step - loss: 18.1279\n",
      "Epoch 196/200\n",
      "4/4 [==============================] - 0s 2ms/step - loss: 18.1272\n",
      "Epoch 197/200\n",
      "4/4 [==============================] - 0s 2ms/step - loss: 18.1246\n",
      "Epoch 198/200\n",
      "4/4 [==============================] - 0s 3ms/step - loss: 18.1328\n",
      "Epoch 199/200\n",
      "4/4 [==============================] - 0s 3ms/step - loss: 18.1283\n",
      "Epoch 200/200\n",
      "4/4 [==============================] - 0s 2ms/step - loss: 18.1294\n"
     ]
    },
    {
     "data": {
      "text/plain": [
       "<keras.callbacks.History at 0x2b077d6a448>"
      ]
     },
     "execution_count": 40,
     "metadata": {},
     "output_type": "execute_result"
    }
   ],
   "source": [
    "## fit the model on data\n",
    "model.fit(x, y, epochs=200)"
   ]
  },
  {
   "cell_type": "code",
   "execution_count": 43,
   "id": "a7fcafca",
   "metadata": {
    "scrolled": true
   },
   "outputs": [
    {
     "data": {
      "text/plain": [
       "[<matplotlib.lines.Line2D at 0x2b078f336c8>]"
      ]
     },
     "execution_count": 43,
     "metadata": {},
     "output_type": "execute_result"
    },
    {
     "data": {
      "image/png": "[encoded data removed]",
      "text/plain": [
       "<Figure size 432x288 with 1 Axes>"
      ]
     },
     "metadata": {
      "needs_background": "light"
     },
     "output_type": "display_data"
    }
   ],
   "source": [
    "loss = model.history.history['loss']\n",
    "epochs = range(len(loss))\n",
    "plt.plot(epochs,loss)"
   ]
  },
  {
   "cell_type": "markdown",
   "id": "01ecdf21",
   "metadata": {},
   "source": [
    "## Predicting on new x points\n",
    "\n",
    "Our previous x was 50 linspace points between 0 and 100. Let's predict for 1000 values between 0 and 100, drawing a line for our predictions (our line of best fit)."
   ]
  },
  {
   "cell_type": "code",
   "execution_count": 44,
   "id": "593272fa",
   "metadata": {},
   "outputs": [],
   "source": [
    "## prediction\n",
    "x_for_predictions = np.linspace(0,50,1000)"
   ]
  },
  {
   "cell_type": "code",
   "execution_count": 46,
   "id": "7940f233",
   "metadata": {},
   "outputs": [
    {
     "name": "stdout",
     "output_type": "stream",
     "text": [
      "32/32 [==============================] - 0s 2ms/step\n"
     ]
    }
   ],
   "source": [
    "y_predicted = model.predict(x_for_predictions)"
   ]
  },
  {
   "cell_type": "code",
   "execution_count": 47,
   "id": "cab3cd99",
   "metadata": {},
   "outputs": [
    {
     "data": {
      "text/plain": [
       "[<matplotlib.lines.Line2D at 0x2b078f950c8>]"
      ]
     },
     "execution_count": 47,
     "metadata": {},
     "output_type": "execute_result"
    },
    {
     "data": {
      "image/png": "[encoded data removed]",
      "text/plain": [
       "<Figure size 432x288 with 1 Axes>"
      ]
     },
     "metadata": {
      "needs_background": "light"
     },
     "output_type": "display_data"
    }
   ],
   "source": [
    "## Original X and Y plot\n",
    "plt.plot(x,y,'*')\n",
    "## Predicted values plot in red\n",
    "## linear fitting model\n",
    "plt.plot(x_for_predictions,y_predicted,'r')"
   ]
  },
  {
   "cell_type": "markdown",
   "id": "87206851",
   "metadata": {},
   "source": [
    "# Evaluating Our Error"
   ]
  },
  {
   "cell_type": "code",
   "execution_count": 50,
   "id": "e012dbf4",
   "metadata": {},
   "outputs": [],
   "source": [
    "## importing mse and mae\n",
    "from sklearn.metrics import mean_squared_error,mean_absolute_error"
   ]
  },
  {
   "cell_type": "code",
   "execution_count": 52,
   "id": "b12673ed",
   "metadata": {},
   "outputs": [
    {
     "name": "stdout",
     "output_type": "stream",
     "text": [
      "4/4 [==============================] - 0s 2ms/step\n"
     ]
    }
   ],
   "source": [
    "## Labels we do know\n",
    "prediction_for_true_y = model.predict(x)"
   ]
  },
  {
   "cell_type": "code",
   "execution_count": 53,
   "id": "7963a9b9",
   "metadata": {},
   "outputs": [
    {
     "data": {
      "text/plain": [
       "18.132542092717376"
      ]
     },
     "execution_count": 53,
     "metadata": {},
     "output_type": "execute_result"
    }
   ],
   "source": [
    "mean_squared_error(y,prediction_for_true_y)"
   ]
  },
  {
   "cell_type": "code",
   "execution_count": 54,
   "id": "d4baa26c",
   "metadata": {},
   "outputs": [
    {
     "data": {
      "text/plain": [
       "3.466123321157613"
      ]
     },
     "execution_count": 54,
     "metadata": {},
     "output_type": "execute_result"
    }
   ],
   "source": [
    "mean_absolute_error(y,prediction_for_true_y)"
   ]
  },
  {
   "cell_type": "markdown",
   "id": "94ed2425",
   "metadata": {},
   "source": [
    " Notice how MSE value was being reported out by Keras during training!\n",
    " \n",
    " Is this a good error value? Really depends on the context, refer back to our model evaluation lecture for full details!"
   ]
  },
  {
   "cell_type": "code",
   "execution_count": 55,
   "id": "25f78a7f",
   "metadata": {},
   "outputs": [],
   "source": [
    "import pandas as pd\n",
    "import numpy as np\n",
    "%matplotlib inline\n",
    "import matplotlib.pyplot as plt"
   ]
  },
  {
   "cell_type": "markdown",
   "id": "66f2d58a",
   "metadata": {},
   "source": [
    "## Data\n",
    "https://fred.stlouisfed.org/series/S4248SM144NCEN"
   ]
  },
  {
   "cell_type": "code",
   "execution_count": 83,
   "id": "cd5625fd",
   "metadata": {},
   "outputs": [],
   "source": [
    "## read and set index to DATE\n",
    "df = pd.read_csv('Course Data/Alcohol_Sales.csv',index_col='DATE',parse_dates=True)\n",
    "df.index.freq = 'MS'"
   ]
  },
  {
   "cell_type": "code",
   "execution_count": 84,
   "id": "fbff3bb2",
   "metadata": {},
   "outputs": [
    {
     "data": {
      "text/html": [
       "<div>\n",
       "<style scoped>\n",
       "    .dataframe tbody tr th:only-of-type {\n",
       "        vertical-align: middle;\n",
       "    }\n",
       "\n",
       "    .dataframe tbody tr th {\n",
       "        vertical-align: top;\n",
       "    }\n",
       "\n",
       "    .dataframe thead th {\n",
       "        text-align: right;\n",
       "    }\n",
       "</style>\n",
       "<table border=\"1\" class=\"dataframe\">\n",
       "  <thead>\n",
       "    <tr style=\"text-align: right;\">\n",
       "      <th></th>\n",
       "      <th>S4248SM144NCEN</th>\n",
       "    </tr>\n",
       "    <tr>\n",
       "      <th>DATE</th>\n",
       "      <th></th>\n",
       "    </tr>\n",
       "  </thead>\n",
       "  <tbody>\n",
       "    <tr>\n",
       "      <th>1992-01-01</th>\n",
       "      <td>3459</td>\n",
       "    </tr>\n",
       "    <tr>\n",
       "      <th>1992-02-01</th>\n",
       "      <td>3458</td>\n",
       "    </tr>\n",
       "    <tr>\n",
       "      <th>1992-03-01</th>\n",
       "      <td>4002</td>\n",
       "    </tr>\n",
       "    <tr>\n",
       "      <th>1992-04-01</th>\n",
       "      <td>4564</td>\n",
       "    </tr>\n",
       "    <tr>\n",
       "      <th>1992-05-01</th>\n",
       "      <td>4221</td>\n",
       "    </tr>\n",
       "  </tbody>\n",
       "</table>\n",
       "</div>"
      ],
      "text/plain": [
       "            S4248SM144NCEN\n",
       "DATE                      \n",
       "1992-01-01            3459\n",
       "1992-02-01            3458\n",
       "1992-03-01            4002\n",
       "1992-04-01            4564\n",
       "1992-05-01            4221"
      ]
     },
     "execution_count": 84,
     "metadata": {},
     "output_type": "execute_result"
    }
   ],
   "source": [
    "df.head()"
   ]
  },
  {
   "cell_type": "code",
   "execution_count": 85,
   "id": "bffb3826",
   "metadata": {},
   "outputs": [],
   "source": [
    "df.columns = ['Sales']"
   ]
  },
  {
   "cell_type": "code",
   "execution_count": 86,
   "id": "82b8226c",
   "metadata": {},
   "outputs": [
    {
     "data": {
      "text/html": [
       "<div>\n",
       "<style scoped>\n",
       "    .dataframe tbody tr th:only-of-type {\n",
       "        vertical-align: middle;\n",
       "    }\n",
       "\n",
       "    .dataframe tbody tr th {\n",
       "        vertical-align: top;\n",
       "    }\n",
       "\n",
       "    .dataframe thead th {\n",
       "        text-align: right;\n",
       "    }\n",
       "</style>\n",
       "<table border=\"1\" class=\"dataframe\">\n",
       "  <thead>\n",
       "    <tr style=\"text-align: right;\">\n",
       "      <th></th>\n",
       "      <th>Sales</th>\n",
       "    </tr>\n",
       "    <tr>\n",
       "      <th>DATE</th>\n",
       "      <th></th>\n",
       "    </tr>\n",
       "  </thead>\n",
       "  <tbody>\n",
       "    <tr>\n",
       "      <th>1992-01-01</th>\n",
       "      <td>3459</td>\n",
       "    </tr>\n",
       "    <tr>\n",
       "      <th>1992-02-01</th>\n",
       "      <td>3458</td>\n",
       "    </tr>\n",
       "    <tr>\n",
       "      <th>1992-03-01</th>\n",
       "      <td>4002</td>\n",
       "    </tr>\n",
       "    <tr>\n",
       "      <th>1992-04-01</th>\n",
       "      <td>4564</td>\n",
       "    </tr>\n",
       "    <tr>\n",
       "      <th>1992-05-01</th>\n",
       "      <td>4221</td>\n",
       "    </tr>\n",
       "  </tbody>\n",
       "</table>\n",
       "</div>"
      ],
      "text/plain": [
       "            Sales\n",
       "DATE             \n",
       "1992-01-01   3459\n",
       "1992-02-01   3458\n",
       "1992-03-01   4002\n",
       "1992-04-01   4564\n",
       "1992-05-01   4221"
      ]
     },
     "execution_count": 86,
     "metadata": {},
     "output_type": "execute_result"
    }
   ],
   "source": [
    "df.head()"
   ]
  },
  {
   "cell_type": "code",
   "execution_count": 87,
   "id": "af520557",
   "metadata": {},
   "outputs": [
    {
     "data": {
      "text/plain": [
       "<AxesSubplot:xlabel='DATE'>"
      ]
     },
     "execution_count": 87,
     "metadata": {},
     "output_type": "execute_result"
    },
    {
     "data": {
      "image/png": "[encoded data removed]",
      "text/plain": [
       "<Figure size 864x576 with 1 Axes>"
      ]
     },
     "metadata": {
      "needs_background": "light"
     },
     "output_type": "display_data"
    }
   ],
   "source": [
    "df.plot(figsize=(12,8))"
   ]
  },
  {
   "cell_type": "code",
   "execution_count": 88,
   "id": "896e802c",
   "metadata": {},
   "outputs": [],
   "source": [
    "from statsmodels.tsa.seasonal import seasonal_decompose"
   ]
  },
  {
   "cell_type": "code",
   "execution_count": 89,
   "id": "8f1a43ff",
   "metadata": {},
   "outputs": [],
   "source": [
    "results = seasonal_decompose(df['Sales'])"
   ]
  },
  {
   "cell_type": "code",
   "execution_count": 94,
   "id": "b701dc42",
   "metadata": {},
   "outputs": [
    {
     "data": {
      "image/png": "[encoded data removed]",
      "text/plain": [
       "<Figure size 432x288 with 4 Axes>"
      ]
     },
     "metadata": {
      "needs_background": "light"
     },
     "output_type": "display_data"
    }
   ],
   "source": [
    "results.plot();"
   ]
  },
  {
   "cell_type": "code",
   "execution_count": 96,
   "id": "5147e2e0",
   "metadata": {},
   "outputs": [
    {
     "data": {
      "text/plain": [
       "<AxesSubplot:xlabel='DATE'>"
      ]
     },
     "execution_count": 96,
     "metadata": {},
     "output_type": "execute_result"
    },
    {
     "data": {
      "image/png": "[encoded data removed]",
      "text/plain": [
       "<Figure size 864x360 with 1 Axes>"
      ]
     },
     "metadata": {
      "needs_background": "light"
     },
     "output_type": "display_data"
    }
   ],
   "source": [
    "results.observed.plot(figsize=(12,5))"
   ]
  },
  {
   "cell_type": "code",
   "execution_count": 99,
   "id": "afe2f222",
   "metadata": {},
   "outputs": [
    {
     "data": {
      "text/plain": [
       "<AxesSubplot:xlabel='DATE'>"
      ]
     },
     "execution_count": 99,
     "metadata": {},
     "output_type": "execute_result"
    },
    {
     "data": {
      "image/png": "[encoded data removed]",
      "text/plain": [
       "<Figure size 864x360 with 1 Axes>"
      ]
     },
     "metadata": {
      "needs_background": "light"
     },
     "output_type": "display_data"
    }
   ],
   "source": [
    "results.trend.plot(figsize=(12,5))"
   ]
  },
  {
   "cell_type": "code",
   "execution_count": 100,
   "id": "ec5c44c2",
   "metadata": {},
   "outputs": [
    {
     "data": {
      "text/plain": [
       "<AxesSubplot:xlabel='DATE'>"
      ]
     },
     "execution_count": 100,
     "metadata": {},
     "output_type": "execute_result"
    },
    {
     "data": {
      "image/png": "[encoded data removed]",
      "text/plain": [
       "<Figure size 864x360 with 1 Axes>"
      ]
     },
     "metadata": {
      "needs_background": "light"
     },
     "output_type": "display_data"
    }
   ],
   "source": [
    "results.seasonal.plot(figsize=(12,5))"
   ]
  },
  {
   "cell_type": "code",
   "execution_count": 101,
   "id": "5cc6de4f",
   "metadata": {},
   "outputs": [
    {
     "data": {
      "text/plain": [
       "<AxesSubplot:xlabel='DATE'>"
      ]
     },
     "execution_count": 101,
     "metadata": {},
     "output_type": "execute_result"
    },
    {
     "data": {
      "image/png": "[encoded data removed]",
      "text/plain": [
       "<Figure size 864x360 with 1 Axes>"
      ]
     },
     "metadata": {
      "needs_background": "light"
     },
     "output_type": "display_data"
    }
   ],
   "source": [
    "results.resid.plot(figsize=(12,5))"
   ]
  },
  {
   "cell_type": "markdown",
   "id": "fb73005e",
   "metadata": {},
   "source": [
    "## Train Test Split"
   ]
  },
  {
   "cell_type": "code",
   "execution_count": 107,
   "id": "b0e2074d",
   "metadata": {},
   "outputs": [
    {
     "data": {
      "text/plain": [
       "325"
      ]
     },
     "execution_count": 107,
     "metadata": {},
     "output_type": "execute_result"
    }
   ],
   "source": [
    "len(df)"
   ]
  },
  {
   "cell_type": "code",
   "execution_count": 108,
   "id": "ed86b437",
   "metadata": {},
   "outputs": [
    {
     "data": {
      "text/plain": [
       "313"
      ]
     },
     "execution_count": 108,
     "metadata": {},
     "output_type": "execute_result"
    }
   ],
   "source": [
    "## monthly data\n",
    "## yearly forecast\n",
    "325-12"
   ]
  },
  {
   "cell_type": "code",
   "execution_count": 109,
   "id": "65efb07f",
   "metadata": {},
   "outputs": [],
   "source": [
    "train = df.iloc[:313]\n",
    "test = df.iloc[313:]"
   ]
  },
  {
   "cell_type": "code",
   "execution_count": 110,
   "id": "6127d69a",
   "metadata": {},
   "outputs": [
    {
     "data": {
      "text/html": [
       "<div>\n",
       "<style scoped>\n",
       "    .dataframe tbody tr th:only-of-type {\n",
       "        vertical-align: middle;\n",
       "    }\n",
       "\n",
       "    .dataframe tbody tr th {\n",
       "        vertical-align: top;\n",
       "    }\n",
       "\n",
       "    .dataframe thead th {\n",
       "        text-align: right;\n",
       "    }\n",
       "</style>\n",
       "<table border=\"1\" class=\"dataframe\">\n",
       "  <thead>\n",
       "    <tr style=\"text-align: right;\">\n",
       "      <th></th>\n",
       "      <th>Sales</th>\n",
       "    </tr>\n",
       "    <tr>\n",
       "      <th>DATE</th>\n",
       "      <th></th>\n",
       "    </tr>\n",
       "  </thead>\n",
       "  <tbody>\n",
       "    <tr>\n",
       "      <th>2018-02-01</th>\n",
       "      <td>10415</td>\n",
       "    </tr>\n",
       "    <tr>\n",
       "      <th>2018-03-01</th>\n",
       "      <td>12683</td>\n",
       "    </tr>\n",
       "    <tr>\n",
       "      <th>2018-04-01</th>\n",
       "      <td>11919</td>\n",
       "    </tr>\n",
       "    <tr>\n",
       "      <th>2018-05-01</th>\n",
       "      <td>14138</td>\n",
       "    </tr>\n",
       "    <tr>\n",
       "      <th>2018-06-01</th>\n",
       "      <td>14583</td>\n",
       "    </tr>\n",
       "    <tr>\n",
       "      <th>2018-07-01</th>\n",
       "      <td>12640</td>\n",
       "    </tr>\n",
       "    <tr>\n",
       "      <th>2018-08-01</th>\n",
       "      <td>14257</td>\n",
       "    </tr>\n",
       "    <tr>\n",
       "      <th>2018-09-01</th>\n",
       "      <td>12396</td>\n",
       "    </tr>\n",
       "    <tr>\n",
       "      <th>2018-10-01</th>\n",
       "      <td>13914</td>\n",
       "    </tr>\n",
       "    <tr>\n",
       "      <th>2018-11-01</th>\n",
       "      <td>14174</td>\n",
       "    </tr>\n",
       "    <tr>\n",
       "      <th>2018-12-01</th>\n",
       "      <td>15504</td>\n",
       "    </tr>\n",
       "    <tr>\n",
       "      <th>2019-01-01</th>\n",
       "      <td>10718</td>\n",
       "    </tr>\n",
       "  </tbody>\n",
       "</table>\n",
       "</div>"
      ],
      "text/plain": [
       "            Sales\n",
       "DATE             \n",
       "2018-02-01  10415\n",
       "2018-03-01  12683\n",
       "2018-04-01  11919\n",
       "2018-05-01  14138\n",
       "2018-06-01  14583\n",
       "2018-07-01  12640\n",
       "2018-08-01  14257\n",
       "2018-09-01  12396\n",
       "2018-10-01  13914\n",
       "2018-11-01  14174\n",
       "2018-12-01  15504\n",
       "2019-01-01  10718"
      ]
     },
     "execution_count": 110,
     "metadata": {},
     "output_type": "execute_result"
    }
   ],
   "source": [
    "test"
   ]
  },
  {
   "cell_type": "code",
   "execution_count": 111,
   "id": "895074e5",
   "metadata": {},
   "outputs": [
    {
     "data": {
      "text/plain": [
       "12"
      ]
     },
     "execution_count": 111,
     "metadata": {},
     "output_type": "execute_result"
    }
   ],
   "source": [
    "len(test)"
   ]
  },
  {
   "cell_type": "markdown",
   "id": "ad680fd7",
   "metadata": {},
   "source": [
    "## Scale Data"
   ]
  },
  {
   "cell_type": "code",
   "execution_count": 113,
   "id": "62dd0836",
   "metadata": {},
   "outputs": [],
   "source": [
    "## from sklearn import Min Max scaler\n",
    "from sklearn.preprocessing import MinMaxScaler"
   ]
  },
  {
   "cell_type": "code",
   "execution_count": 114,
   "id": "1a1e8dd2",
   "metadata": {},
   "outputs": [],
   "source": [
    "## fit\n",
    "scaler = MinMaxScaler()"
   ]
  },
  {
   "cell_type": "code",
   "execution_count": 117,
   "id": "748a9280",
   "metadata": {},
   "outputs": [
    {
     "data": {
      "text/plain": [
       "MinMaxScaler()"
      ]
     },
     "execution_count": 117,
     "metadata": {},
     "output_type": "execute_result"
    }
   ],
   "source": [
    "## transform the fit to train data\n",
    "## IGNORE WARNING ITS JUST CONVERTING TO FLOATS\n",
    "## WE ONLY FIT TO TRAININ DATA, OTHERWISE WE ARE CHEATING ASSUMING INFO ABOUT TEST SET\n",
    "scaler.fit(train)"
   ]
  },
  {
   "cell_type": "code",
   "execution_count": 122,
   "id": "7d879493",
   "metadata": {},
   "outputs": [],
   "source": [
    "## transform the train data (means that devided by the max value)\n",
    "## for getting all the values b/w 0 and 1\n",
    "scaled_train = scaler.transform(train)\n",
    "## transform the test data (means that devided by the max value)\n",
    "scaled_test = scaler.transform(test)"
   ]
  },
  {
   "cell_type": "markdown",
   "id": "ace89ffb",
   "metadata": {},
   "source": [
    "# Time Series Generator\n",
    "\n",
    "This class takes in a sequence of data-points gathered at\n",
    "equal intervals, along with time series parameters such as\n",
    "stride, length of history, etc., to produce batches for\n",
    "training/validation.\n",
    "\n",
    "#### Arguments\n",
    "    data: Indexable generator (such as list or Numpy array)\n",
    "        containing consecutive data points (timesteps).\n",
    "        The data should be at 2D, and axis 0 is expected\n",
    "        to be the time dimension.\n",
    "    targets: Targets corresponding to timesteps in `data`.\n",
    "        It should have same length as `data`.\n",
    "    length: Length of the output sequences (in number of timesteps).\n",
    "    sampling_rate: Period between successive individual timesteps\n",
    "        within sequences. For rate `r`, timesteps\n",
    "        `data[i]`, `data[i-r]`, ... `data[i - length]`\n",
    "        are used for create a sample sequence.\n",
    "    stride: Period between successive output sequences.\n",
    "        For stride `s`, consecutive output samples would\n",
    "        be centered around `data[i]`, `data[i+s]`, `data[i+2*s]`, etc.\n",
    "    start_index: Data points earlier than `start_index` will not be used\n",
    "        in the output sequences. This is useful to reserve part of the\n",
    "        data for test or validation.\n",
    "    end_index: Data points later than `end_index` will not be used\n",
    "        in the output sequences. This is useful to reserve part of the\n",
    "        data for test or validation.\n",
    "    shuffle: Whether to shuffle output samples,\n",
    "        or instead draw them in chronological order.\n",
    "    reverse: Boolean: if `true`, timesteps in each output sample will be\n",
    "        in reverse chronological order.\n",
    "    batch_size: Number of timeseries samples in each batch\n",
    "        (except maybe the last one)."
   ]
  },
  {
   "cell_type": "code",
   "execution_count": 145,
   "id": "c29734f0",
   "metadata": {},
   "outputs": [],
   "source": [
    "## import time series generator\n",
    "from keras.preprocessing.sequence import TimeseriesGenerator"
   ]
  },
  {
   "cell_type": "code",
   "execution_count": 146,
   "id": "e8e88895",
   "metadata": {},
   "outputs": [
    {
     "data": {
      "text/plain": [
       "array([[0.03658432],\n",
       "       [0.03649885],\n",
       "       [0.08299855],\n",
       "       [0.13103684],\n",
       "       [0.1017181 ]])"
      ]
     },
     "execution_count": 146,
     "metadata": {},
     "output_type": "execute_result"
    }
   ],
   "source": [
    "## display scaled train data\n",
    "scaled_train[:5]"
   ]
  },
  {
   "cell_type": "code",
   "execution_count": 147,
   "id": "ed5f08a5",
   "metadata": {},
   "outputs": [],
   "source": [
    "## define generator\n",
    "## defining 2 variables\n",
    "n_input = 2\n",
    "n_features = 1\n",
    "## passing the scaled train data twice (due to source data and source target both come from scaled train)\n",
    "generator = TimeseriesGenerator(scaled_train, scaled_train, length=n_input, batch_size=1)"
   ]
  },
  {
   "cell_type": "code",
   "execution_count": 148,
   "id": "e0b64de6",
   "metadata": {},
   "outputs": [
    {
     "data": {
      "text/plain": [
       "313"
      ]
     },
     "execution_count": 148,
     "metadata": {},
     "output_type": "execute_result"
    }
   ],
   "source": [
    "len(scaled_train)"
   ]
  },
  {
   "cell_type": "code",
   "execution_count": 149,
   "id": "13214dd4",
   "metadata": {},
   "outputs": [
    {
     "data": {
      "text/plain": [
       "311"
      ]
     },
     "execution_count": 149,
     "metadata": {},
     "output_type": "execute_result"
    }
   ],
   "source": [
    "## scaled train - n_input\n",
    "len(generator) # n_input = 2"
   ]
  },
  {
   "cell_type": "code",
   "execution_count": 150,
   "id": "b1c63771",
   "metadata": {},
   "outputs": [],
   "source": [
    "## What does the first batch look like?\n",
    "X,y = generator[0]"
   ]
  },
  {
   "cell_type": "code",
   "execution_count": 151,
   "id": "27157d7f",
   "metadata": {},
   "outputs": [
    {
     "data": {
      "text/plain": [
       "array([[[0.03658432],\n",
       "        [0.03649885]]])"
      ]
     },
     "execution_count": 151,
     "metadata": {},
     "output_type": "execute_result"
    }
   ],
   "source": [
    "## X = 1st 2 points\n",
    "X"
   ]
  },
  {
   "cell_type": "code",
   "execution_count": 158,
   "id": "edab38ec",
   "metadata": {},
   "outputs": [
    {
     "data": {
      "text/plain": [
       "array([[0.]])"
      ]
     },
     "execution_count": 158,
     "metadata": {},
     "output_type": "execute_result"
    }
   ],
   "source": [
    "## y = 3rd point \n",
    "y"
   ]
  },
  {
   "cell_type": "code",
   "execution_count": 159,
   "id": "4e7858d9",
   "metadata": {},
   "outputs": [],
   "source": [
    "## Let's redefine to get 12 months back and then predict the next month out\n",
    "n_input = 12\n",
    "generator = TimeseriesGenerator(scaled_train, scaled_train, length=n_input, batch_size=1)"
   ]
  },
  {
   "cell_type": "code",
   "execution_count": 160,
   "id": "f06cac11",
   "metadata": {},
   "outputs": [],
   "source": [
    "## What does the first batch look like?\n",
    "X,y = generator[0]"
   ]
  },
  {
   "cell_type": "code",
   "execution_count": 164,
   "id": "dbba8e24",
   "metadata": {},
   "outputs": [
    {
     "data": {
      "text/plain": [
       "array([[[0.03658432],\n",
       "        [0.03649885],\n",
       "        [0.08299855],\n",
       "        [0.13103684],\n",
       "        [0.1017181 ],\n",
       "        [0.12804513],\n",
       "        [0.12266006],\n",
       "        [0.09453799],\n",
       "        [0.09359774],\n",
       "        [0.10496624],\n",
       "        [0.10334217],\n",
       "        [0.16283443]]])"
      ]
     },
     "execution_count": 164,
     "metadata": {},
     "output_type": "execute_result"
    }
   ],
   "source": [
    "X"
   ]
  },
  {
   "cell_type": "code",
   "execution_count": 165,
   "id": "df58892f",
   "metadata": {},
   "outputs": [
    {
     "data": {
      "text/plain": [
       "array([[0.]])"
      ]
     },
     "execution_count": 165,
     "metadata": {},
     "output_type": "execute_result"
    }
   ],
   "source": [
    "y"
   ]
  },
  {
   "cell_type": "markdown",
   "id": "7437fcb7",
   "metadata": {},
   "source": [
    "### Create the Model"
   ]
  },
  {
   "cell_type": "code",
   "execution_count": 166,
   "id": "dfa6f3ab",
   "metadata": {},
   "outputs": [],
   "source": [
    "from keras.models import Sequential\n",
    "from keras.layers import Dense\n",
    "from keras.layers import LSTM"
   ]
  },
  {
   "cell_type": "code",
   "execution_count": 167,
   "id": "8e671a67",
   "metadata": {},
   "outputs": [],
   "source": [
    "## define model\n",
    "model = Sequential()\n",
    "## adding lstm layer\n",
    "model.add(LSTM(150, activation='relu', input_shape=(n_input, n_features)))\n",
    "## adding 1 dense layer\n",
    "model.add(Dense(1))\n",
    "## compiling\n",
    "model.compile(optimizer='adam', loss='mse')"
   ]
  },
  {
   "cell_type": "code",
   "execution_count": 168,
   "id": "016de911",
   "metadata": {},
   "outputs": [
    {
     "name": "stdout",
     "output_type": "stream",
     "text": [
      "Model: \"sequential_2\"\n",
      "_________________________________________________________________\n",
      " Layer (type)                Output Shape              Param #   \n",
      "=================================================================\n",
      " lstm (LSTM)                 (None, 150)               91200     \n",
      "                                                                 \n",
      " dense_6 (Dense)             (None, 1)                 151       \n",
      "                                                                 \n",
      "=================================================================\n",
      "Total params: 91,351\n",
      "Trainable params: 91,351\n",
      "Non-trainable params: 0\n",
      "_________________________________________________________________\n"
     ]
    }
   ],
   "source": [
    "model.summary()"
   ]
  },
  {
   "cell_type": "code",
   "execution_count": 169,
   "id": "81c0911f",
   "metadata": {},
   "outputs": [
    {
     "name": "stdout",
     "output_type": "stream",
     "text": [
      "Epoch 1/50\n",
      "WARNING:tensorflow:AutoGraph could not transform <function Model.make_train_function.<locals>.train_function at 0x000002B07DCDDE58> and will run it as-is.\n",
      "Please report this to the TensorFlow team. When filing the bug, set the verbosity to 10 (on Linux, `export AUTOGRAPH_VERBOSITY=10`) and attach the full output.\n",
      "Cause: 'arguments' object has no attribute 'posonlyargs'\n",
      "To silence this warning, decorate the function with @tf.autograph.experimental.do_not_convert\n"
     ]
    },
    {
     "name": "stderr",
     "output_type": "stream",
     "text": [
      "C:\\Users\\abdul\\anaconda3\\envs\\deeplearning\\lib\\site-packages\\ipykernel_launcher.py:2: UserWarning: `Model.fit_generator` is deprecated and will be removed in a future version. Please use `Model.fit`, which supports generators.\n",
      "  \n"
     ]
    },
    {
     "name": "stdout",
     "output_type": "stream",
     "text": [
      "WARNING: AutoGraph could not transform <function Model.make_train_function.<locals>.train_function at 0x000002B07DCDDE58> and will run it as-is.\n",
      "Please report this to the TensorFlow team. When filing the bug, set the verbosity to 10 (on Linux, `export AUTOGRAPH_VERBOSITY=10`) and attach the full output.\n",
      "Cause: 'arguments' object has no attribute 'posonlyargs'\n",
      "To silence this warning, decorate the function with @tf.autograph.experimental.do_not_convert\n",
      "301/301 [==============================] - 7s 12ms/step - loss: 0.0177\n",
      "Epoch 2/50\n",
      "301/301 [==============================] - 3s 11ms/step - loss: 0.0087\n",
      "Epoch 3/50\n",
      "301/301 [==============================] - 3s 11ms/step - loss: 0.0082\n",
      "Epoch 4/50\n",
      "301/301 [==============================] - 3s 10ms/step - loss: 0.0071\n",
      "Epoch 5/50\n",
      "301/301 [==============================] - 3s 10ms/step - loss: 0.0069\n",
      "Epoch 6/50\n",
      "301/301 [==============================] - 3s 10ms/step - loss: 0.0044\n",
      "Epoch 7/50\n",
      "301/301 [==============================] - 3s 10ms/step - loss: 0.0034\n",
      "Epoch 8/50\n",
      "301/301 [==============================] - 3s 11ms/step - loss: 0.0035\n",
      "Epoch 9/50\n",
      "301/301 [==============================] - 3s 10ms/step - loss: 0.0024\n",
      "Epoch 10/50\n",
      "301/301 [==============================] - 3s 10ms/step - loss: 0.0026\n",
      "Epoch 11/50\n",
      "301/301 [==============================] - 3s 11ms/step - loss: 0.0022\n",
      "Epoch 12/50\n",
      "301/301 [==============================] - 3s 10ms/step - loss: 0.0020\n",
      "Epoch 13/50\n",
      "301/301 [==============================] - 3s 10ms/step - loss: 0.0024\n",
      "Epoch 14/50\n",
      "301/301 [==============================] - 3s 10ms/step - loss: 0.0018\n",
      "Epoch 15/50\n",
      "301/301 [==============================] - 3s 10ms/step - loss: 0.0020\n",
      "Epoch 16/50\n",
      "301/301 [==============================] - 3s 10ms/step - loss: 0.0017\n",
      "Epoch 17/50\n",
      "301/301 [==============================] - 3s 10ms/step - loss: 0.0016\n",
      "Epoch 18/50\n",
      "301/301 [==============================] - 3s 10ms/step - loss: 0.0018\n",
      "Epoch 19/50\n",
      "301/301 [==============================] - 3s 10ms/step - loss: 0.0018\n",
      "Epoch 20/50\n",
      "301/301 [==============================] - 3s 10ms/step - loss: 0.0015\n",
      "Epoch 21/50\n",
      "301/301 [==============================] - 3s 10ms/step - loss: 0.0018\n",
      "Epoch 22/50\n",
      "301/301 [==============================] - 3s 10ms/step - loss: 0.0017\n",
      "Epoch 23/50\n",
      "301/301 [==============================] - 3s 10ms/step - loss: 0.0016\n",
      "Epoch 24/50\n",
      "301/301 [==============================] - 3s 10ms/step - loss: 0.0016\n",
      "Epoch 25/50\n",
      "301/301 [==============================] - 3s 11ms/step - loss: 0.0017\n",
      "Epoch 26/50\n",
      "301/301 [==============================] - 4s 12ms/step - loss: 0.0016\n",
      "Epoch 27/50\n",
      "301/301 [==============================] - 3s 10ms/step - loss: 0.0016\n",
      "Epoch 28/50\n",
      "301/301 [==============================] - 3s 10ms/step - loss: 0.0017\n",
      "Epoch 29/50\n",
      "301/301 [==============================] - 3s 10ms/step - loss: 0.0016\n",
      "Epoch 30/50\n",
      "301/301 [==============================] - 3s 10ms/step - loss: 0.0016\n",
      "Epoch 31/50\n",
      "301/301 [==============================] - 3s 10ms/step - loss: 0.0015\n",
      "Epoch 32/50\n",
      "301/301 [==============================] - 3s 10ms/step - loss: 0.0015\n",
      "Epoch 33/50\n",
      "301/301 [==============================] - 3s 10ms/step - loss: 0.0016\n",
      "Epoch 34/50\n",
      "301/301 [==============================] - 3s 11ms/step - loss: 0.0013\n",
      "Epoch 35/50\n",
      "301/301 [==============================] - 3s 11ms/step - loss: 0.0015\n",
      "Epoch 36/50\n",
      "301/301 [==============================] - 3s 10ms/step - loss: 0.0014\n",
      "Epoch 37/50\n",
      "301/301 [==============================] - 3s 10ms/step - loss: 0.0016\n",
      "Epoch 38/50\n",
      "301/301 [==============================] - 3s 10ms/step - loss: 0.0015\n",
      "Epoch 39/50\n",
      "301/301 [==============================] - 3s 11ms/step - loss: 0.0014\n",
      "Epoch 40/50\n",
      "301/301 [==============================] - 3s 10ms/step - loss: 0.0014\n",
      "Epoch 41/50\n",
      "301/301 [==============================] - 3s 11ms/step - loss: 0.0014\n",
      "Epoch 42/50\n",
      "301/301 [==============================] - 4s 13ms/step - loss: 0.0014\n",
      "Epoch 43/50\n",
      "301/301 [==============================] - 4s 12ms/step - loss: 0.0015\n",
      "Epoch 44/50\n",
      "301/301 [==============================] - 4s 13ms/step - loss: 0.0012\n",
      "Epoch 45/50\n",
      "301/301 [==============================] - 5s 18ms/step - loss: 0.0015\n",
      "Epoch 46/50\n",
      "301/301 [==============================] - 4s 14ms/step - loss: 0.0014\n",
      "Epoch 47/50\n",
      "301/301 [==============================] - 5s 15ms/step - loss: 0.0014\n",
      "Epoch 48/50\n",
      "301/301 [==============================] - 4s 12ms/step - loss: 0.0013\n",
      "Epoch 49/50\n",
      "301/301 [==============================] - 4s 13ms/step - loss: 0.0017\n",
      "Epoch 50/50\n",
      "301/301 [==============================] - 4s 12ms/step - loss: 0.0014\n"
     ]
    },
    {
     "data": {
      "text/plain": [
       "<keras.callbacks.History at 0x2b07dcb8b08>"
      ]
     },
     "execution_count": 169,
     "metadata": {},
     "output_type": "execute_result"
    }
   ],
   "source": [
    "## fit model to generator\n",
    "## epochs = 50\n",
    "model.fit_generator(generator,epochs=50)"
   ]
  },
  {
   "cell_type": "code",
   "execution_count": 170,
   "id": "8fe95c37",
   "metadata": {},
   "outputs": [
    {
     "data": {
      "text/plain": [
       "dict_keys(['loss'])"
      ]
     },
     "execution_count": 170,
     "metadata": {},
     "output_type": "execute_result"
    }
   ],
   "source": [
    "model.history.history.keys()"
   ]
  },
  {
   "cell_type": "code",
   "execution_count": 171,
   "id": "3f460a79",
   "metadata": {},
   "outputs": [
    {
     "data": {
      "text/plain": [
       "[<matplotlib.lines.Line2D at 0x2b07f20da08>]"
      ]
     },
     "execution_count": 171,
     "metadata": {},
     "output_type": "execute_result"
    },
    {
     "data": {
      "image/png": "[encoded data removed]",
      "text/plain": [
       "<Figure size 432x288 with 1 Axes>"
      ]
     },
     "metadata": {
      "needs_background": "light"
     },
     "output_type": "display_data"
    }
   ],
   "source": [
    "loss_per_epoch = model.history.history['loss']\n",
    "plt.plot(range(len(loss_per_epoch)),loss_per_epoch)"
   ]
  },
  {
   "cell_type": "markdown",
   "id": "a3431049",
   "metadata": {},
   "source": [
    "## Evaluate on Test Data"
   ]
  },
  {
   "cell_type": "code",
   "execution_count": 172,
   "id": "3471abb3",
   "metadata": {},
   "outputs": [],
   "source": [
    "## creating evaluation batch\n",
    "first_eval_batch = scaled_train[-12:]"
   ]
  },
  {
   "cell_type": "code",
   "execution_count": 173,
   "id": "821b1647",
   "metadata": {},
   "outputs": [
    {
     "data": {
      "text/plain": [
       "array([[0.63432772],\n",
       "       [0.80776135],\n",
       "       [0.72313873],\n",
       "       [0.89870929],\n",
       "       [1.        ],\n",
       "       [0.71672793],\n",
       "       [0.88648602],\n",
       "       [0.75869732],\n",
       "       [0.82742115],\n",
       "       [0.87443371],\n",
       "       [0.96025301],\n",
       "       [0.5584238 ]])"
      ]
     },
     "execution_count": 173,
     "metadata": {},
     "output_type": "execute_result"
    }
   ],
   "source": [
    "## last 12 points of training set\n",
    "first_eval_batch"
   ]
  },
  {
   "cell_type": "code",
   "execution_count": 177,
   "id": "7abfeb27",
   "metadata": {},
   "outputs": [],
   "source": [
    "## reshape\n",
    "first_eval_batch = first_eval_batch.reshape((1, n_input, n_features))"
   ]
  },
  {
   "cell_type": "code",
   "execution_count": 178,
   "id": "d512eee8",
   "metadata": {},
   "outputs": [
    {
     "data": {
      "text/plain": [
       "array([[[0.63432772],\n",
       "        [0.80776135],\n",
       "        [0.72313873],\n",
       "        [0.89870929],\n",
       "        [1.        ],\n",
       "        [0.71672793],\n",
       "        [0.88648602],\n",
       "        [0.75869732],\n",
       "        [0.82742115],\n",
       "        [0.87443371],\n",
       "        [0.96025301],\n",
       "        [0.5584238 ]]])"
      ]
     },
     "execution_count": 178,
     "metadata": {},
     "output_type": "execute_result"
    }
   ],
   "source": [
    "first_eval_batch "
   ]
  },
  {
   "cell_type": "code",
   "execution_count": 181,
   "id": "42336fa1",
   "metadata": {},
   "outputs": [
    {
     "name": "stdout",
     "output_type": "stream",
     "text": [
      "1/1 [==============================] - 0s 40ms/step\n"
     ]
    },
    {
     "data": {
      "text/plain": [
       "array([[0.7588637]], dtype=float32)"
      ]
     },
     "execution_count": 181,
     "metadata": {},
     "output_type": "execute_result"
    }
   ],
   "source": [
    "## prediction of 1st evaluation batch\n",
    "## given the last 12 points and it predict the 1st point of data\n",
    "model.predict(first_eval_batch)"
   ]
  },
  {
   "cell_type": "code",
   "execution_count": 182,
   "id": "5a6290cd",
   "metadata": {},
   "outputs": [
    {
     "data": {
      "text/plain": [
       "array([0.63116506])"
      ]
     },
     "execution_count": 182,
     "metadata": {},
     "output_type": "execute_result"
    }
   ],
   "source": [
    "scaled_test[0]"
   ]
  },
  {
   "cell_type": "markdown",
   "id": "a95feda1",
   "metadata": {},
   "source": [
    "Now let's put this logic in a for loop to predict into the future for the entire test range.\n",
    "\n",
    "----"
   ]
  },
  {
   "cell_type": "markdown",
   "id": "29d7ed97",
   "metadata": {},
   "source": [
    "### FORECAST USING RNN MODEL"
   ]
  },
  {
   "cell_type": "code",
   "execution_count": 204,
   "id": "7e609013",
   "metadata": {},
   "outputs": [],
   "source": [
    "## predicyion of all the test data\n",
    "test_predictions = []\n",
    "## last n_inputs from the training set\n",
    "first_eval_batch = scaled_train[-n_input:]\n",
    "## reshape this to the format RNN wants\n",
    "current_batch = first_eval_batch.reshape((1, n_input, n_features))"
   ]
  },
  {
   "cell_type": "code",
   "execution_count": 200,
   "id": "5d229088",
   "metadata": {},
   "outputs": [
    {
     "data": {
      "text/plain": [
       "(1, 12, 1)"
      ]
     },
     "execution_count": 200,
     "metadata": {},
     "output_type": "execute_result"
    }
   ],
   "source": [
    "current_batch.shape"
   ]
  },
  {
   "cell_type": "code",
   "execution_count": 201,
   "id": "f121f2e1",
   "metadata": {},
   "outputs": [
    {
     "data": {
      "text/plain": [
       "array([[[0.63432772],\n",
       "        [0.80776135],\n",
       "        [0.72313873],\n",
       "        [0.89870929],\n",
       "        [1.        ],\n",
       "        [0.71672793],\n",
       "        [0.88648602],\n",
       "        [0.75869732],\n",
       "        [0.82742115],\n",
       "        [0.87443371],\n",
       "        [0.96025301],\n",
       "        [0.5584238 ]]])"
      ]
     },
     "execution_count": 201,
     "metadata": {},
     "output_type": "execute_result"
    }
   ],
   "source": [
    "current_batch"
   ]
  },
  {
   "cell_type": "code",
   "execution_count": 202,
   "id": "1e3d49ee",
   "metadata": {},
   "outputs": [
    {
     "data": {
      "text/plain": [
       "array([[[ 0.80776135],\n",
       "        [ 0.72313873],\n",
       "        [ 0.89870929],\n",
       "        [ 1.        ],\n",
       "        [ 0.71672793],\n",
       "        [ 0.88648602],\n",
       "        [ 0.75869732],\n",
       "        [ 0.82742115],\n",
       "        [ 0.87443371],\n",
       "        [ 0.96025301],\n",
       "        [ 0.5584238 ],\n",
       "        [99.        ]]])"
      ]
     },
     "execution_count": 202,
     "metadata": {},
     "output_type": "execute_result"
    }
   ],
   "source": [
    "## update the current batch to include prediction\n",
    "np.append(current_batch[:,1:,:],[[[99]]],axis=1)"
   ]
  },
  {
   "cell_type": "markdown",
   "id": "5aad7040",
   "metadata": {},
   "source": [
    "**NOTE: PAY CLOSE ATTENTION HERE TO WHAT IS BEING OUTPUTED AND IN WHAT DIMENSIONS. ADD YOUR OWN PRINT() STATEMENTS TO SEE WHAT IS TRULY GOING ON!!**"
   ]
  },
  {
   "cell_type": "code",
   "execution_count": 206,
   "id": "5c871f7c",
   "metadata": {},
   "outputs": [
    {
     "name": "stdout",
     "output_type": "stream",
     "text": [
      "1/1 [==============================] - 0s 45ms/step\n",
      "1/1 [==============================] - 0s 30ms/step\n",
      "1/1 [==============================] - 0s 30ms/step\n",
      "1/1 [==============================] - 0s 40ms/step\n",
      "1/1 [==============================] - 0s 35ms/step\n",
      "1/1 [==============================] - 0s 25ms/step\n",
      "1/1 [==============================] - 0s 25ms/step\n",
      "1/1 [==============================] - 0s 27ms/step\n",
      "1/1 [==============================] - 0s 30ms/step\n",
      "1/1 [==============================] - 0s 26ms/step\n",
      "1/1 [==============================] - 0s 25ms/step\n",
      "1/1 [==============================] - 0s 40ms/step\n"
     ]
    }
   ],
   "source": [
    "test_predictions = []\n",
    "\n",
    "first_eval_batch = scaled_train[-n_input:]\n",
    "current_batch = first_eval_batch.reshape((1, n_input, n_features))\n",
    "\n",
    "for i in range(len(test)):\n",
    "    \n",
    "    ## get prediction 1 time stamp ahead ([0] is for grabbing just the number instead of [array])\n",
    "    current_pred = model.predict(current_batch)[0]\n",
    "    \n",
    "    ## store prediction\n",
    "    test_predictions.append(current_pred) \n",
    "    \n",
    "    ## update batch to now include prediction and drop first value\n",
    "    current_batch = np.append(current_batch[:,1:,:],[[current_pred]],axis=1)"
   ]
  },
  {
   "cell_type": "code",
   "execution_count": 207,
   "id": "f587e4a8",
   "metadata": {},
   "outputs": [
    {
     "data": {
      "text/plain": [
       "[array([0.7588637], dtype=float32),\n",
       " array([0.85721284], dtype=float32),\n",
       " array([0.8351105], dtype=float32),\n",
       " array([0.98858774], dtype=float32),\n",
       " array([1.088428], dtype=float32),\n",
       " array([0.81070405], dtype=float32),\n",
       " array([0.9698665], dtype=float32),\n",
       " array([0.8280348], dtype=float32),\n",
       " array([0.92435235], dtype=float32),\n",
       " array([0.95053244], dtype=float32),\n",
       " array([1.0450414], dtype=float32),\n",
       " array([0.6540472], dtype=float32)]"
      ]
     },
     "execution_count": 207,
     "metadata": {},
     "output_type": "execute_result"
    }
   ],
   "source": [
    "test_predictions"
   ]
  },
  {
   "cell_type": "code",
   "execution_count": 208,
   "id": "5ea78971",
   "metadata": {},
   "outputs": [
    {
     "data": {
      "text/plain": [
       "array([[0.63116506],\n",
       "       [0.82502778],\n",
       "       [0.75972305],\n",
       "       [0.94939738],\n",
       "       [0.98743482],\n",
       "       [0.82135225],\n",
       "       [0.95956919],\n",
       "       [0.80049577],\n",
       "       [0.93025045],\n",
       "       [0.95247457],\n",
       "       [1.0661595 ],\n",
       "       [0.65706471]])"
      ]
     },
     "execution_count": 208,
     "metadata": {},
     "output_type": "execute_result"
    }
   ],
   "source": [
    "scaled_test"
   ]
  },
  {
   "cell_type": "markdown",
   "id": "82590f47",
   "metadata": {},
   "source": [
    "## Inverse Transformations and Compare"
   ]
  },
  {
   "cell_type": "code",
   "execution_count": 209,
   "id": "914b84ea",
   "metadata": {},
   "outputs": [],
   "source": [
    "true_predictions = scaler.inverse_transform(test_predictions)"
   ]
  },
  {
   "cell_type": "code",
   "execution_count": 210,
   "id": "f143fc2f",
   "metadata": {},
   "outputs": [
    {
     "data": {
      "text/plain": [
       "array([[11908.94628024],\n",
       "       [13059.53303283],\n",
       "       [12800.95757049],\n",
       "       [14596.48793614],\n",
       "       [15764.51941156],\n",
       "       [12515.42670959],\n",
       "       [14377.4683497 ],\n",
       "       [12718.1793378 ],\n",
       "       [13844.99811751],\n",
       "       [14151.2789731 ],\n",
       "       [15256.93982899],\n",
       "       [10682.69808918]])"
      ]
     },
     "execution_count": 210,
     "metadata": {},
     "output_type": "execute_result"
    }
   ],
   "source": [
    "true_predictions"
   ]
  },
  {
   "cell_type": "code",
   "execution_count": 211,
   "id": "c87bb258",
   "metadata": {},
   "outputs": [
    {
     "data": {
      "text/html": [
       "<div>\n",
       "<style scoped>\n",
       "    .dataframe tbody tr th:only-of-type {\n",
       "        vertical-align: middle;\n",
       "    }\n",
       "\n",
       "    .dataframe tbody tr th {\n",
       "        vertical-align: top;\n",
       "    }\n",
       "\n",
       "    .dataframe thead th {\n",
       "        text-align: right;\n",
       "    }\n",
       "</style>\n",
       "<table border=\"1\" class=\"dataframe\">\n",
       "  <thead>\n",
       "    <tr style=\"text-align: right;\">\n",
       "      <th></th>\n",
       "      <th>Sales</th>\n",
       "    </tr>\n",
       "    <tr>\n",
       "      <th>DATE</th>\n",
       "      <th></th>\n",
       "    </tr>\n",
       "  </thead>\n",
       "  <tbody>\n",
       "    <tr>\n",
       "      <th>2018-02-01</th>\n",
       "      <td>10415</td>\n",
       "    </tr>\n",
       "    <tr>\n",
       "      <th>2018-03-01</th>\n",
       "      <td>12683</td>\n",
       "    </tr>\n",
       "    <tr>\n",
       "      <th>2018-04-01</th>\n",
       "      <td>11919</td>\n",
       "    </tr>\n",
       "    <tr>\n",
       "      <th>2018-05-01</th>\n",
       "      <td>14138</td>\n",
       "    </tr>\n",
       "    <tr>\n",
       "      <th>2018-06-01</th>\n",
       "      <td>14583</td>\n",
       "    </tr>\n",
       "    <tr>\n",
       "      <th>2018-07-01</th>\n",
       "      <td>12640</td>\n",
       "    </tr>\n",
       "    <tr>\n",
       "      <th>2018-08-01</th>\n",
       "      <td>14257</td>\n",
       "    </tr>\n",
       "    <tr>\n",
       "      <th>2018-09-01</th>\n",
       "      <td>12396</td>\n",
       "    </tr>\n",
       "    <tr>\n",
       "      <th>2018-10-01</th>\n",
       "      <td>13914</td>\n",
       "    </tr>\n",
       "    <tr>\n",
       "      <th>2018-11-01</th>\n",
       "      <td>14174</td>\n",
       "    </tr>\n",
       "    <tr>\n",
       "      <th>2018-12-01</th>\n",
       "      <td>15504</td>\n",
       "    </tr>\n",
       "    <tr>\n",
       "      <th>2019-01-01</th>\n",
       "      <td>10718</td>\n",
       "    </tr>\n",
       "  </tbody>\n",
       "</table>\n",
       "</div>"
      ],
      "text/plain": [
       "            Sales\n",
       "DATE             \n",
       "2018-02-01  10415\n",
       "2018-03-01  12683\n",
       "2018-04-01  11919\n",
       "2018-05-01  14138\n",
       "2018-06-01  14583\n",
       "2018-07-01  12640\n",
       "2018-08-01  14257\n",
       "2018-09-01  12396\n",
       "2018-10-01  13914\n",
       "2018-11-01  14174\n",
       "2018-12-01  15504\n",
       "2019-01-01  10718"
      ]
     },
     "execution_count": 211,
     "metadata": {},
     "output_type": "execute_result"
    }
   ],
   "source": [
    "test"
   ]
  },
  {
   "cell_type": "code",
   "execution_count": 212,
   "id": "e625ddf9",
   "metadata": {},
   "outputs": [
    {
     "name": "stderr",
     "output_type": "stream",
     "text": [
      "C:\\Users\\abdul\\anaconda3\\envs\\deeplearning\\lib\\site-packages\\ipykernel_launcher.py:2: SettingWithCopyWarning: \n",
      "A value is trying to be set on a copy of a slice from a DataFrame.\n",
      "Try using .loc[row_indexer,col_indexer] = value instead\n",
      "\n",
      "See the caveats in the documentation: https://pandas.pydata.org/pandas-docs/stable/user_guide/indexing.html#returning-a-view-versus-a-copy\n",
      "  \n"
     ]
    }
   ],
   "source": [
    "## IGNORE WARNINGS\n",
    "test['Predictions'] = true_predictions"
   ]
  },
  {
   "cell_type": "code",
   "execution_count": 213,
   "id": "71810544",
   "metadata": {},
   "outputs": [
    {
     "data": {
      "text/html": [
       "<div>\n",
       "<style scoped>\n",
       "    .dataframe tbody tr th:only-of-type {\n",
       "        vertical-align: middle;\n",
       "    }\n",
       "\n",
       "    .dataframe tbody tr th {\n",
       "        vertical-align: top;\n",
       "    }\n",
       "\n",
       "    .dataframe thead th {\n",
       "        text-align: right;\n",
       "    }\n",
       "</style>\n",
       "<table border=\"1\" class=\"dataframe\">\n",
       "  <thead>\n",
       "    <tr style=\"text-align: right;\">\n",
       "      <th></th>\n",
       "      <th>Sales</th>\n",
       "      <th>Predictions</th>\n",
       "    </tr>\n",
       "    <tr>\n",
       "      <th>DATE</th>\n",
       "      <th></th>\n",
       "      <th></th>\n",
       "    </tr>\n",
       "  </thead>\n",
       "  <tbody>\n",
       "    <tr>\n",
       "      <th>2018-02-01</th>\n",
       "      <td>10415</td>\n",
       "      <td>11908.946280</td>\n",
       "    </tr>\n",
       "    <tr>\n",
       "      <th>2018-03-01</th>\n",
       "      <td>12683</td>\n",
       "      <td>13059.533033</td>\n",
       "    </tr>\n",
       "    <tr>\n",
       "      <th>2018-04-01</th>\n",
       "      <td>11919</td>\n",
       "      <td>12800.957570</td>\n",
       "    </tr>\n",
       "    <tr>\n",
       "      <th>2018-05-01</th>\n",
       "      <td>14138</td>\n",
       "      <td>14596.487936</td>\n",
       "    </tr>\n",
       "    <tr>\n",
       "      <th>2018-06-01</th>\n",
       "      <td>14583</td>\n",
       "      <td>15764.519412</td>\n",
       "    </tr>\n",
       "    <tr>\n",
       "      <th>2018-07-01</th>\n",
       "      <td>12640</td>\n",
       "      <td>12515.426710</td>\n",
       "    </tr>\n",
       "    <tr>\n",
       "      <th>2018-08-01</th>\n",
       "      <td>14257</td>\n",
       "      <td>14377.468350</td>\n",
       "    </tr>\n",
       "    <tr>\n",
       "      <th>2018-09-01</th>\n",
       "      <td>12396</td>\n",
       "      <td>12718.179338</td>\n",
       "    </tr>\n",
       "    <tr>\n",
       "      <th>2018-10-01</th>\n",
       "      <td>13914</td>\n",
       "      <td>13844.998118</td>\n",
       "    </tr>\n",
       "    <tr>\n",
       "      <th>2018-11-01</th>\n",
       "      <td>14174</td>\n",
       "      <td>14151.278973</td>\n",
       "    </tr>\n",
       "    <tr>\n",
       "      <th>2018-12-01</th>\n",
       "      <td>15504</td>\n",
       "      <td>15256.939829</td>\n",
       "    </tr>\n",
       "    <tr>\n",
       "      <th>2019-01-01</th>\n",
       "      <td>10718</td>\n",
       "      <td>10682.698089</td>\n",
       "    </tr>\n",
       "  </tbody>\n",
       "</table>\n",
       "</div>"
      ],
      "text/plain": [
       "            Sales   Predictions\n",
       "DATE                           \n",
       "2018-02-01  10415  11908.946280\n",
       "2018-03-01  12683  13059.533033\n",
       "2018-04-01  11919  12800.957570\n",
       "2018-05-01  14138  14596.487936\n",
       "2018-06-01  14583  15764.519412\n",
       "2018-07-01  12640  12515.426710\n",
       "2018-08-01  14257  14377.468350\n",
       "2018-09-01  12396  12718.179338\n",
       "2018-10-01  13914  13844.998118\n",
       "2018-11-01  14174  14151.278973\n",
       "2018-12-01  15504  15256.939829\n",
       "2019-01-01  10718  10682.698089"
      ]
     },
     "execution_count": 213,
     "metadata": {},
     "output_type": "execute_result"
    }
   ],
   "source": [
    "test"
   ]
  },
  {
   "cell_type": "code",
   "execution_count": 214,
   "id": "8fe49b17",
   "metadata": {},
   "outputs": [
    {
     "data": {
      "text/plain": [
       "<AxesSubplot:xlabel='DATE'>"
      ]
     },
     "execution_count": 214,
     "metadata": {},
     "output_type": "execute_result"
    },
    {
     "data": {
      "image/png": "[encoded data removed]",
      "text/plain": [
       "<Figure size 864x576 with 1 Axes>"
      ]
     },
     "metadata": {
      "needs_background": "light"
     },
     "output_type": "display_data"
    }
   ],
   "source": [
    "test.plot(figsize=(12,8))"
   ]
  },
  {
   "cell_type": "markdown",
   "id": "7a2076c4",
   "metadata": {},
   "source": [
    "# Saving and Loading Models"
   ]
  },
  {
   "cell_type": "code",
   "execution_count": 215,
   "id": "aa59ac13",
   "metadata": {},
   "outputs": [],
   "source": [
    "## h5 is a extension\n",
    "model.save('my_rnn_model.h5')"
   ]
  },
  {
   "cell_type": "code",
   "execution_count": 218,
   "id": "04546b63",
   "metadata": {},
   "outputs": [
    {
     "data": {
      "text/plain": [
       "'C:\\\\Users\\\\abdul\\\\Desktop\\\\Research\\\\Data'"
      ]
     },
     "execution_count": 218,
     "metadata": {},
     "output_type": "execute_result"
    }
   ],
   "source": [
    "pwd"
   ]
  },
  {
   "cell_type": "markdown",
   "id": "b617abd3",
   "metadata": {},
   "source": [
    "## load a model"
   ]
  },
  {
   "cell_type": "code",
   "execution_count": 219,
   "id": "f7b0fc5d",
   "metadata": {},
   "outputs": [],
   "source": [
    "from keras.models import load_model\n",
    "new_model = load_model('my_rnn_model.h5')"
   ]
  },
  {
   "cell_type": "code",
   "execution_count": 220,
   "id": "4561fb8e",
   "metadata": {},
   "outputs": [
    {
     "name": "stdout",
     "output_type": "stream",
     "text": [
      "Model: \"sequential_2\"\n",
      "_________________________________________________________________\n",
      " Layer (type)                Output Shape              Param #   \n",
      "=================================================================\n",
      " lstm (LSTM)                 (None, 150)               91200     \n",
      "                                                                 \n",
      " dense_6 (Dense)             (None, 1)                 151       \n",
      "                                                                 \n",
      "=================================================================\n",
      "Total params: 91,351\n",
      "Trainable params: 91,351\n",
      "Non-trainable params: 0\n",
      "_________________________________________________________________\n"
     ]
    }
   ],
   "source": [
    "new_model.summary()"
   ]
  },
  {
   "cell_type": "markdown",
   "id": "7a9198f6",
   "metadata": {},
   "source": [
    "**TASK: IMPORT THE BASIC LIBRARIES YOU THINK YOU WILL USE**"
   ]
  },
  {
   "cell_type": "code",
   "execution_count": 223,
   "id": "d4dd8c4e",
   "metadata": {},
   "outputs": [],
   "source": [
    "import pandas as pd\n",
    "import numpy as np\n",
    "%matplotlib inline\n",
    "import matplotlib.pyplot as plt"
   ]
  },
  {
   "cell_type": "markdown",
   "id": "826c681f",
   "metadata": {},
   "source": [
    "## Data\n",
    "\n",
    "Info about this data set: https://fred.stlouisfed.org/series/TRFVOLUSM227NFWA\n",
    "\n",
    "Read in the data set \"Miles_Traveled.csv\" from the Data folder. Figure out how to set the date to a datetime index columns"
   ]
  },
  {
   "cell_type": "code",
   "execution_count": 224,
   "id": "b4f3b9ca",
   "metadata": {},
   "outputs": [],
   "source": [
    "df = pd.read_csv('Course Data/Miles_Traveled.csv',index_col='DATE',parse_dates=True)\n",
    "df.index.freq = 'MS'"
   ]
  },
  {
   "cell_type": "code",
   "execution_count": 225,
   "id": "d9d3d000",
   "metadata": {},
   "outputs": [
    {
     "data": {
      "text/html": [
       "<div>\n",
       "<style scoped>\n",
       "    .dataframe tbody tr th:only-of-type {\n",
       "        vertical-align: middle;\n",
       "    }\n",
       "\n",
       "    .dataframe tbody tr th {\n",
       "        vertical-align: top;\n",
       "    }\n",
       "\n",
       "    .dataframe thead th {\n",
       "        text-align: right;\n",
       "    }\n",
       "</style>\n",
       "<table border=\"1\" class=\"dataframe\">\n",
       "  <thead>\n",
       "    <tr style=\"text-align: right;\">\n",
       "      <th></th>\n",
       "      <th>TRFVOLUSM227NFWA</th>\n",
       "    </tr>\n",
       "    <tr>\n",
       "      <th>DATE</th>\n",
       "      <th></th>\n",
       "    </tr>\n",
       "  </thead>\n",
       "  <tbody>\n",
       "    <tr>\n",
       "      <th>1970-01-01</th>\n",
       "      <td>80173.0</td>\n",
       "    </tr>\n",
       "    <tr>\n",
       "      <th>1970-02-01</th>\n",
       "      <td>77442.0</td>\n",
       "    </tr>\n",
       "    <tr>\n",
       "      <th>1970-03-01</th>\n",
       "      <td>90223.0</td>\n",
       "    </tr>\n",
       "    <tr>\n",
       "      <th>1970-04-01</th>\n",
       "      <td>89956.0</td>\n",
       "    </tr>\n",
       "    <tr>\n",
       "      <th>1970-05-01</th>\n",
       "      <td>97972.0</td>\n",
       "    </tr>\n",
       "  </tbody>\n",
       "</table>\n",
       "</div>"
      ],
      "text/plain": [
       "            TRFVOLUSM227NFWA\n",
       "DATE                        \n",
       "1970-01-01           80173.0\n",
       "1970-02-01           77442.0\n",
       "1970-03-01           90223.0\n",
       "1970-04-01           89956.0\n",
       "1970-05-01           97972.0"
      ]
     },
     "execution_count": 225,
     "metadata": {},
     "output_type": "execute_result"
    }
   ],
   "source": [
    "df.head()"
   ]
  },
  {
   "cell_type": "markdown",
   "id": "031b5dab",
   "metadata": {},
   "source": [
    "**Task: Change the column names to Value**"
   ]
  },
  {
   "cell_type": "code",
   "execution_count": 226,
   "id": "9430de84",
   "metadata": {},
   "outputs": [],
   "source": [
    "df.columns = ['Value']"
   ]
  },
  {
   "cell_type": "markdown",
   "id": "eb875327",
   "metadata": {},
   "source": [
    "**TASK: Plot out the time series**"
   ]
  },
  {
   "cell_type": "code",
   "execution_count": 228,
   "id": "c0d0fd6f",
   "metadata": {},
   "outputs": [
    {
     "data": {
      "text/plain": [
       "<AxesSubplot:xlabel='DATE'>"
      ]
     },
     "execution_count": 228,
     "metadata": {},
     "output_type": "execute_result"
    },
    {
     "data": {
      "image/png": "[encoded data removed]",
      "text/plain": [
       "<Figure size 720x360 with 1 Axes>"
      ]
     },
     "metadata": {
      "needs_background": "light"
     },
     "output_type": "display_data"
    }
   ],
   "source": [
    "df.plot(figsize=(10,5))"
   ]
  },
  {
   "cell_type": "markdown",
   "id": "c120f17e",
   "metadata": {},
   "source": [
    "**TASK: Perform a Seasonal Decomposition on the model and plot out the ETS components**"
   ]
  },
  {
   "cell_type": "code",
   "execution_count": 229,
   "id": "4b9b69a4",
   "metadata": {},
   "outputs": [],
   "source": [
    "from statsmodels.tsa.seasonal import seasonal_decompose"
   ]
  },
  {
   "cell_type": "code",
   "execution_count": 233,
   "id": "e22ff99f",
   "metadata": {},
   "outputs": [
    {
     "data": {
      "text/plain": [
       "<AxesSubplot:xlabel='DATE'>"
      ]
     },
     "execution_count": 233,
     "metadata": {},
     "output_type": "execute_result"
    },
    {
     "data": {
      "image/png": "[encoded data removed]",
      "text/plain": [
       "<Figure size 720x288 with 1 Axes>"
      ]
     },
     "metadata": {
      "needs_background": "light"
     },
     "output_type": "display_data"
    }
   ],
   "source": [
    "results = seasonal_decompose(df['Value'])\n",
    "results.observed.plot(figsize=(10,4))"
   ]
  },
  {
   "cell_type": "code",
   "execution_count": 234,
   "id": "774d3d6b",
   "metadata": {},
   "outputs": [
    {
     "data": {
      "text/plain": [
       "<AxesSubplot:xlabel='DATE'>"
      ]
     },
     "execution_count": 234,
     "metadata": {},
     "output_type": "execute_result"
    },
    {
     "data": {
      "image/png": "[encoded data removed]",
      "text/plain": [
       "<Figure size 720x288 with 1 Axes>"
      ]
     },
     "metadata": {
      "needs_background": "light"
     },
     "output_type": "display_data"
    }
   ],
   "source": [
    "results.trend.plot(figsize=(10,4))"
   ]
  },
  {
   "cell_type": "code",
   "execution_count": 235,
   "id": "9d336e1c",
   "metadata": {},
   "outputs": [
    {
     "data": {
      "text/plain": [
       "<AxesSubplot:xlabel='DATE'>"
      ]
     },
     "execution_count": 235,
     "metadata": {},
     "output_type": "execute_result"
    },
    {
     "data": {
      "image/png": "[encoded data removed]",
      "text/plain": [
       "<Figure size 720x288 with 1 Axes>"
      ]
     },
     "metadata": {
      "needs_background": "light"
     },
     "output_type": "display_data"
    }
   ],
   "source": [
    "results.seasonal.plot(figsize=(10,4))"
   ]
  },
  {
   "cell_type": "code",
   "execution_count": 236,
   "id": "a618146c",
   "metadata": {},
   "outputs": [
    {
     "data": {
      "text/plain": [
       "<AxesSubplot:xlabel='DATE'>"
      ]
     },
     "execution_count": 236,
     "metadata": {},
     "output_type": "execute_result"
    },
    {
     "data": {
      "image/png": "[encoded data removed]",
      "text/plain": [
       "<Figure size 720x288 with 1 Axes>"
      ]
     },
     "metadata": {
      "needs_background": "light"
     },
     "output_type": "display_data"
    }
   ],
   "source": [
    "results.resid.plot(figsize=(10,4))"
   ]
  },
  {
   "cell_type": "markdown",
   "id": "bc37e8e6",
   "metadata": {},
   "source": [
    "## Train Test Split"
   ]
  },
  {
   "cell_type": "markdown",
   "id": "7c7ef0a0",
   "metadata": {},
   "source": [
    "**TASK: Figure out the length of the data set**"
   ]
  },
  {
   "cell_type": "code",
   "execution_count": 241,
   "id": "f7001567",
   "metadata": {},
   "outputs": [
    {
     "data": {
      "text/plain": [
       "588"
      ]
     },
     "execution_count": 241,
     "metadata": {},
     "output_type": "execute_result"
    }
   ],
   "source": [
    "len(df)"
   ]
  },
  {
   "cell_type": "code",
   "execution_count": 242,
   "id": "b1a3c3f0",
   "metadata": {},
   "outputs": [],
   "source": [
    "train_len = len(df)-12"
   ]
  },
  {
   "cell_type": "markdown",
   "id": "a8bd39f3",
   "metadata": {},
   "source": [
    "**TASK: Split the data into a train/test split where the test set is the last 12 months of data.**"
   ]
  },
  {
   "cell_type": "code",
   "execution_count": 243,
   "id": "04898705",
   "metadata": {},
   "outputs": [],
   "source": [
    "train = df.iloc[:train_len]\n",
    "test = df.iloc[train_len:]"
   ]
  },
  {
   "cell_type": "code",
   "execution_count": 244,
   "id": "b6c5ee10",
   "metadata": {},
   "outputs": [
    {
     "data": {
      "text/plain": [
       "12"
      ]
     },
     "execution_count": 244,
     "metadata": {},
     "output_type": "execute_result"
    }
   ],
   "source": [
    "len(test)"
   ]
  },
  {
   "cell_type": "markdown",
   "id": "212466bc",
   "metadata": {},
   "source": [
    "## Scale Data"
   ]
  },
  {
   "cell_type": "markdown",
   "id": "1f0f4505",
   "metadata": {},
   "source": [
    "**TASK: Use a MinMaxScaler to scale the train and test sets into scaled versions.**"
   ]
  },
  {
   "cell_type": "code",
   "execution_count": 274,
   "id": "5a3112e5",
   "metadata": {},
   "outputs": [],
   "source": [
    "from sklearn.preprocessing import MinMaxScaler"
   ]
  },
  {
   "cell_type": "code",
   "execution_count": 275,
   "id": "f0d6577f",
   "metadata": {},
   "outputs": [],
   "source": [
    "scaler = MinMaxScaler()"
   ]
  },
  {
   "cell_type": "code",
   "execution_count": 276,
   "id": "3fc67724",
   "metadata": {},
   "outputs": [
    {
     "data": {
      "text/plain": [
       "MinMaxScaler()"
      ]
     },
     "execution_count": 276,
     "metadata": {},
     "output_type": "execute_result"
    }
   ],
   "source": [
    "## pass the fitted data into train \n",
    "scaler.fit(train)"
   ]
  },
  {
   "cell_type": "code",
   "execution_count": 277,
   "id": "9336b59a",
   "metadata": {},
   "outputs": [],
   "source": [
    "scaled_train = scaler.transform(train)\n",
    "scaled_test = scaler.transform(test)"
   ]
  },
  {
   "cell_type": "markdown",
   "id": "6292728e",
   "metadata": {},
   "source": [
    "# Time Series Generator\n",
    "\n",
    "**TASK: Create a TimeSeriesGenerator object based off the scaled_train data. The n_input is up to you, but at a minimum it should be at least 12.**"
   ]
  },
  {
   "cell_type": "code",
   "execution_count": 278,
   "id": "74eb9cb7",
   "metadata": {},
   "outputs": [],
   "source": [
    "from keras.preprocessing.sequence import TimeseriesGenerator"
   ]
  },
  {
   "cell_type": "code",
   "execution_count": 279,
   "id": "ddf0d953",
   "metadata": {},
   "outputs": [],
   "source": [
    "n_input = 15\n",
    "n_features=1\n",
    "generator = TimeseriesGenerator(scaled_train, scaled_train, length=n_input, batch_size=1)"
   ]
  },
  {
   "cell_type": "markdown",
   "id": "3e31a0b6",
   "metadata": {},
   "source": [
    "### Create the Model\n",
    "\n",
    "**TASK: Create a Keras Sequential Model with as many LSTAM units you want and a final Dense Layer.**"
   ]
  },
  {
   "cell_type": "code",
   "execution_count": 280,
   "id": "14b7bd8b",
   "metadata": {},
   "outputs": [],
   "source": [
    "from keras.models import Sequential\n",
    "from keras.layers import Dense\n",
    "from keras.layers import LSTM"
   ]
  },
  {
   "cell_type": "code",
   "execution_count": 281,
   "id": "3f83eb0f",
   "metadata": {},
   "outputs": [],
   "source": [
    "## define model and creating the layers\n",
    "model = Sequential()\n",
    "model.add(LSTM(150, activation='relu', input_shape=(n_input, n_features)))\n",
    "model.add(Dense(1))\n",
    "model.compile(optimizer='adam', loss='mse')"
   ]
  },
  {
   "cell_type": "code",
   "execution_count": 282,
   "id": "7ca97aa3",
   "metadata": {},
   "outputs": [
    {
     "name": "stdout",
     "output_type": "stream",
     "text": [
      "Model: \"sequential_7\"\n",
      "_________________________________________________________________\n",
      " Layer (type)                Output Shape              Param #   \n",
      "=================================================================\n",
      " lstm_5 (LSTM)               (None, 150)               91200     \n",
      "                                                                 \n",
      " dense_11 (Dense)            (None, 1)                 151       \n",
      "                                                                 \n",
      "=================================================================\n",
      "Total params: 91,351\n",
      "Trainable params: 91,351\n",
      "Non-trainable params: 0\n",
      "_________________________________________________________________\n"
     ]
    }
   ],
   "source": [
    "model.summary()"
   ]
  },
  {
   "cell_type": "markdown",
   "id": "e125e1e9",
   "metadata": {},
   "source": [
    "**TASK: Fit the model to the generator (it should be a lot of epochs, but do as many as you have the patience for! :)**"
   ]
  },
  {
   "cell_type": "code",
   "execution_count": 283,
   "id": "17dc34a9",
   "metadata": {},
   "outputs": [
    {
     "name": "stdout",
     "output_type": "stream",
     "text": [
      "Epoch 1/10\n",
      "WARNING:tensorflow:AutoGraph could not transform <function Model.make_train_function.<locals>.train_function at 0x000002B073D9A678> and will run it as-is.\n",
      "Please report this to the TensorFlow team. When filing the bug, set the verbosity to 10 (on Linux, `export AUTOGRAPH_VERBOSITY=10`) and attach the full output.\n",
      "Cause: 'arguments' object has no attribute 'posonlyargs'\n",
      "To silence this warning, decorate the function with @tf.autograph.experimental.do_not_convert\n",
      "WARNING: AutoGraph could not transform <function Model.make_train_function.<locals>.train_function at 0x000002B073D9A678> and will run it as-is.\n",
      "Please report this to the TensorFlow team. When filing the bug, set the verbosity to 10 (on Linux, `export AUTOGRAPH_VERBOSITY=10`) and attach the full output.\n",
      "Cause: 'arguments' object has no attribute 'posonlyargs'\n",
      "To silence this warning, decorate the function with @tf.autograph.experimental.do_not_convert\n"
     ]
    },
    {
     "name": "stderr",
     "output_type": "stream",
     "text": [
      "C:\\Users\\abdul\\anaconda3\\envs\\deeplearning\\lib\\site-packages\\ipykernel_launcher.py:2: UserWarning: `Model.fit_generator` is deprecated and will be removed in a future version. Please use `Model.fit`, which supports generators.\n",
      "  \n"
     ]
    },
    {
     "name": "stdout",
     "output_type": "stream",
     "text": [
      "561/561 [==============================] - 8s 10ms/step - loss: 0.0115\n",
      "Epoch 2/10\n",
      "561/561 [==============================] - 6s 11ms/step - loss: 0.0060\n",
      "Epoch 3/10\n",
      "561/561 [==============================] - 6s 11ms/step - loss: 0.0047\n",
      "Epoch 4/10\n",
      "561/561 [==============================] - 6s 10ms/step - loss: 0.0044\n",
      "Epoch 5/10\n",
      "561/561 [==============================] - 6s 10ms/step - loss: 0.0045\n",
      "Epoch 6/10\n",
      "561/561 [==============================] - 6s 10ms/step - loss: 0.0031\n",
      "Epoch 7/10\n",
      "561/561 [==============================] - 6s 10ms/step - loss: 0.0028\n",
      "Epoch 8/10\n",
      "561/561 [==============================] - 6s 11ms/step - loss: 0.0023\n",
      "Epoch 9/10\n",
      "561/561 [==============================] - 6s 10ms/step - loss: 0.0021\n",
      "Epoch 10/10\n",
      "561/561 [==============================] - 6s 11ms/step - loss: 0.0017\n"
     ]
    },
    {
     "data": {
      "text/plain": [
       "<keras.callbacks.History at 0x2b002833408>"
      ]
     },
     "execution_count": 283,
     "metadata": {},
     "output_type": "execute_result"
    }
   ],
   "source": [
    "## fit model into generator\n",
    "model.fit_generator(generator,epochs=10)"
   ]
  },
  {
   "cell_type": "markdown",
   "id": "9652870b",
   "metadata": {},
   "source": [
    "**TASK: Plot the history of the loss that occured during training.**"
   ]
  },
  {
   "cell_type": "code",
   "execution_count": 285,
   "id": "a39c2e6e",
   "metadata": {},
   "outputs": [
    {
     "data": {
      "text/plain": [
       "dict_keys(['loss'])"
      ]
     },
     "execution_count": 285,
     "metadata": {},
     "output_type": "execute_result"
    }
   ],
   "source": [
    "model.history.history.keys()"
   ]
  },
  {
   "cell_type": "code",
   "execution_count": 286,
   "id": "75cec158",
   "metadata": {},
   "outputs": [
    {
     "data": {
      "text/plain": [
       "[<matplotlib.lines.Line2D at 0x2b009994508>]"
      ]
     },
     "execution_count": 286,
     "metadata": {},
     "output_type": "execute_result"
    },
    {
     "data": {
      "image/png": "[encoded data removed]",
      "text/plain": [
       "<Figure size 432x288 with 1 Axes>"
      ]
     },
     "metadata": {
      "needs_background": "light"
     },
     "output_type": "display_data"
    }
   ],
   "source": [
    "loss_per_epoch = model.history.history['loss']\n",
    "plt.plot(range(len(loss_per_epoch)),loss_per_epoch)"
   ]
  },
  {
   "cell_type": "markdown",
   "id": "2b5cef15",
   "metadata": {},
   "source": [
    "## Evaluate on Test Data\n",
    "\n",
    "**TASK: Based on your test data and input size, create an appropriate;y sized \"first evaluation batch\" like we did in the lecture.**"
   ]
  },
  {
   "cell_type": "code",
   "execution_count": 287,
   "id": "f6462632",
   "metadata": {},
   "outputs": [],
   "source": [
    "first_eval_batch = scaled_train[-12:]"
   ]
  },
  {
   "cell_type": "code",
   "execution_count": 288,
   "id": "085b6279",
   "metadata": {},
   "outputs": [
    {
     "data": {
      "text/plain": [
       "array([[0.79630397],\n",
       "       [0.71226435],\n",
       "       [0.90477416],\n",
       "       [0.93121043],\n",
       "       [0.98386382],\n",
       "       [0.96757519],\n",
       "       [1.        ],\n",
       "       [0.9801859 ],\n",
       "       [0.8824684 ],\n",
       "       [0.95995255],\n",
       "       [0.85883345],\n",
       "       [0.90086755]])"
      ]
     },
     "execution_count": 288,
     "metadata": {},
     "output_type": "execute_result"
    }
   ],
   "source": [
    "first_eval_batch"
   ]
  },
  {
   "cell_type": "code",
   "execution_count": 289,
   "id": "022694f2",
   "metadata": {},
   "outputs": [],
   "source": [
    "first_eval_batch = first_eval_batch.reshape((1, 12, n_features))"
   ]
  },
  {
   "cell_type": "markdown",
   "id": "4c9de224",
   "metadata": {},
   "source": [
    "**TASK: Generate predictions into the same time stamps as the test set**"
   ]
  },
  {
   "cell_type": "code",
   "execution_count": 290,
   "id": "9613215c",
   "metadata": {},
   "outputs": [
    {
     "name": "stdout",
     "output_type": "stream",
     "text": [
      "WARNING:tensorflow:AutoGraph could not transform <function Model.make_predict_function.<locals>.predict_function at 0x000002B004DB54C8> and will run it as-is.\n",
      "Please report this to the TensorFlow team. When filing the bug, set the verbosity to 10 (on Linux, `export AUTOGRAPH_VERBOSITY=10`) and attach the full output.\n",
      "Cause: 'arguments' object has no attribute 'posonlyargs'\n",
      "To silence this warning, decorate the function with @tf.autograph.experimental.do_not_convert\n",
      "WARNING: AutoGraph could not transform <function Model.make_predict_function.<locals>.predict_function at 0x000002B004DB54C8> and will run it as-is.\n",
      "Please report this to the TensorFlow team. When filing the bug, set the verbosity to 10 (on Linux, `export AUTOGRAPH_VERBOSITY=10`) and attach the full output.\n",
      "Cause: 'arguments' object has no attribute 'posonlyargs'\n",
      "To silence this warning, decorate the function with @tf.autograph.experimental.do_not_convert\n",
      "1/1 [==============================] - 0s 371ms/step\n",
      "1/1 [==============================] - 0s 31ms/step\n",
      "1/1 [==============================] - 0s 16ms/step\n",
      "1/1 [==============================] - 0s 31ms/step\n",
      "1/1 [==============================] - 0s 31ms/step\n",
      "1/1 [==============================] - 0s 31ms/step\n",
      "1/1 [==============================] - 0s 24ms/step\n",
      "1/1 [==============================] - 0s 31ms/step\n",
      "1/1 [==============================] - 0s 24ms/step\n",
      "1/1 [==============================] - 0s 24ms/step\n",
      "1/1 [==============================] - 0s 24ms/step\n",
      "1/1 [==============================] - 0s 31ms/step\n"
     ]
    }
   ],
   "source": [
    "test_predictions = []\n",
    "\n",
    "first_eval_batch = scaled_train[-n_input:]\n",
    "current_batch = first_eval_batch.reshape((1, n_input, n_features))\n",
    "\n",
    "for i in range(len(test)):\n",
    "    \n",
    "    # get prediction 1 time stamp ahead ([0] is for grabbing just the number instead of [array])\n",
    "    current_pred = model.predict(current_batch)[0]\n",
    "    \n",
    "    # store prediction\n",
    "    test_predictions.append(current_pred) \n",
    "    \n",
    "    # update batch to now include prediction and drop first value\n",
    "    current_batch = np.append(current_batch[:,1:,:],[[current_pred]],axis=1)"
   ]
  },
  {
   "cell_type": "markdown",
   "id": "18f7a87d",
   "metadata": {},
   "source": [
    "## Inverse Transformations and Compare\n",
    "\n",
    "**TASK: Inverse Transform your new forecasted predictions.**"
   ]
  },
  {
   "cell_type": "code",
   "execution_count": 291,
   "id": "7cfedea3",
   "metadata": {},
   "outputs": [],
   "source": [
    "true_predictions = scaler.inverse_transform(test_predictions)"
   ]
  },
  {
   "cell_type": "code",
   "execution_count": 292,
   "id": "29b62cb0",
   "metadata": {},
   "outputs": [
    {
     "data": {
      "text/plain": [
       "array([[258205.63320887],\n",
       "       [258185.75311142],\n",
       "       [280122.49606007],\n",
       "       [293165.75418091],\n",
       "       [297166.89590836],\n",
       "       [297246.94176328],\n",
       "       [299144.57150567],\n",
       "       [294518.47658265],\n",
       "       [288882.56278896],\n",
       "       [286473.55538571],\n",
       "       [280097.43637776],\n",
       "       [278794.7582742 ]])"
      ]
     },
     "execution_count": 292,
     "metadata": {},
     "output_type": "execute_result"
    }
   ],
   "source": [
    "true_predictions"
   ]
  },
  {
   "cell_type": "markdown",
   "id": "ba74f72e",
   "metadata": {},
   "source": [
    "**TASK: Create a new dataframe that has both the original test values and your predictions for them.**"
   ]
  },
  {
   "cell_type": "code",
   "execution_count": 293,
   "id": "cf44550a",
   "metadata": {},
   "outputs": [
    {
     "name": "stderr",
     "output_type": "stream",
     "text": [
      "C:\\Users\\abdul\\anaconda3\\envs\\deeplearning\\lib\\site-packages\\ipykernel_launcher.py:2: SettingWithCopyWarning: \n",
      "A value is trying to be set on a copy of a slice from a DataFrame.\n",
      "Try using .loc[row_indexer,col_indexer] = value instead\n",
      "\n",
      "See the caveats in the documentation: https://pandas.pydata.org/pandas-docs/stable/user_guide/indexing.html#returning-a-view-versus-a-copy\n",
      "  \n"
     ]
    }
   ],
   "source": [
    "## IGNORE WARNINGS\n",
    "test['Predictions'] = true_predictions"
   ]
  },
  {
   "cell_type": "code",
   "execution_count": 294,
   "id": "22be9e13",
   "metadata": {},
   "outputs": [
    {
     "data": {
      "text/html": [
       "<div>\n",
       "<style scoped>\n",
       "    .dataframe tbody tr th:only-of-type {\n",
       "        vertical-align: middle;\n",
       "    }\n",
       "\n",
       "    .dataframe tbody tr th {\n",
       "        vertical-align: top;\n",
       "    }\n",
       "\n",
       "    .dataframe thead th {\n",
       "        text-align: right;\n",
       "    }\n",
       "</style>\n",
       "<table border=\"1\" class=\"dataframe\">\n",
       "  <thead>\n",
       "    <tr style=\"text-align: right;\">\n",
       "      <th></th>\n",
       "      <th>Value</th>\n",
       "      <th>Predictions</th>\n",
       "    </tr>\n",
       "    <tr>\n",
       "      <th>DATE</th>\n",
       "      <th></th>\n",
       "      <th></th>\n",
       "    </tr>\n",
       "  </thead>\n",
       "  <tbody>\n",
       "    <tr>\n",
       "      <th>2018-01-01</th>\n",
       "      <td>245695.0</td>\n",
       "      <td>258205.633209</td>\n",
       "    </tr>\n",
       "    <tr>\n",
       "      <th>2018-02-01</th>\n",
       "      <td>226660.0</td>\n",
       "      <td>258185.753111</td>\n",
       "    </tr>\n",
       "    <tr>\n",
       "      <th>2018-03-01</th>\n",
       "      <td>268480.0</td>\n",
       "      <td>280122.496060</td>\n",
       "    </tr>\n",
       "    <tr>\n",
       "      <th>2018-04-01</th>\n",
       "      <td>272475.0</td>\n",
       "      <td>293165.754181</td>\n",
       "    </tr>\n",
       "    <tr>\n",
       "      <th>2018-05-01</th>\n",
       "      <td>286164.0</td>\n",
       "      <td>297166.895908</td>\n",
       "    </tr>\n",
       "    <tr>\n",
       "      <th>2018-06-01</th>\n",
       "      <td>280877.0</td>\n",
       "      <td>297246.941763</td>\n",
       "    </tr>\n",
       "    <tr>\n",
       "      <th>2018-07-01</th>\n",
       "      <td>288145.0</td>\n",
       "      <td>299144.571506</td>\n",
       "    </tr>\n",
       "    <tr>\n",
       "      <th>2018-08-01</th>\n",
       "      <td>286608.0</td>\n",
       "      <td>294518.476583</td>\n",
       "    </tr>\n",
       "    <tr>\n",
       "      <th>2018-09-01</th>\n",
       "      <td>260595.0</td>\n",
       "      <td>288882.562789</td>\n",
       "    </tr>\n",
       "    <tr>\n",
       "      <th>2018-10-01</th>\n",
       "      <td>282174.0</td>\n",
       "      <td>286473.555386</td>\n",
       "    </tr>\n",
       "    <tr>\n",
       "      <th>2018-11-01</th>\n",
       "      <td>258590.0</td>\n",
       "      <td>280097.436378</td>\n",
       "    </tr>\n",
       "    <tr>\n",
       "      <th>2018-12-01</th>\n",
       "      <td>268413.0</td>\n",
       "      <td>278794.758274</td>\n",
       "    </tr>\n",
       "  </tbody>\n",
       "</table>\n",
       "</div>"
      ],
      "text/plain": [
       "               Value    Predictions\n",
       "DATE                               \n",
       "2018-01-01  245695.0  258205.633209\n",
       "2018-02-01  226660.0  258185.753111\n",
       "2018-03-01  268480.0  280122.496060\n",
       "2018-04-01  272475.0  293165.754181\n",
       "2018-05-01  286164.0  297166.895908\n",
       "2018-06-01  280877.0  297246.941763\n",
       "2018-07-01  288145.0  299144.571506\n",
       "2018-08-01  286608.0  294518.476583\n",
       "2018-09-01  260595.0  288882.562789\n",
       "2018-10-01  282174.0  286473.555386\n",
       "2018-11-01  258590.0  280097.436378\n",
       "2018-12-01  268413.0  278794.758274"
      ]
     },
     "execution_count": 294,
     "metadata": {},
     "output_type": "execute_result"
    }
   ],
   "source": [
    "test"
   ]
  },
  {
   "cell_type": "markdown",
   "id": "a8fe65eb",
   "metadata": {},
   "source": [
    "**TASK: Plot out the test set against your own predicted values.**"
   ]
  },
  {
   "cell_type": "code",
   "execution_count": 299,
   "id": "d8e3d39f",
   "metadata": {},
   "outputs": [
    {
     "data": {
      "text/plain": [
       "<AxesSubplot:xlabel='DATE'>"
      ]
     },
     "execution_count": 299,
     "metadata": {},
     "output_type": "execute_result"
    },
    {
     "data": {
      "image/png": "[encoded data removed]",
      "text/plain": [
       "<Figure size 720x360 with 1 Axes>"
      ]
     },
     "metadata": {
      "needs_background": "light"
     },
     "output_type": "display_data"
    }
   ],
   "source": [
    "test.plot(figsize=(10,5))"
   ]
  },
  {
   "cell_type": "markdown",
   "id": "01930c8a",
   "metadata": {},
   "source": [
    "# Saving Models\n",
    "\n",
    "**TASK: Optional, Save your model!**"
   ]
  },
  {
   "cell_type": "code",
   "execution_count": 300,
   "id": "65cb0c56",
   "metadata": {},
   "outputs": [],
   "source": [
    "model.save('exercise_solutions_model.h5')"
   ]
  },
  {
   "cell_type": "markdown",
   "id": "67e2b50e",
   "metadata": {},
   "source": [
    "## Load a model"
   ]
  },
  {
   "cell_type": "code",
   "execution_count": 303,
   "id": "24ec8c82",
   "metadata": {},
   "outputs": [],
   "source": [
    "from keras.models import load_model\n",
    "new_model = load_model('exercise_solutions_model.h5')"
   ]
  },
  {
   "cell_type": "code",
   "execution_count": 304,
   "id": "e6afa8d2",
   "metadata": {},
   "outputs": [
    {
     "name": "stdout",
     "output_type": "stream",
     "text": [
      "Model: \"sequential_7\"\n",
      "_________________________________________________________________\n",
      " Layer (type)                Output Shape              Param #   \n",
      "=================================================================\n",
      " lstm_5 (LSTM)               (None, 150)               91200     \n",
      "                                                                 \n",
      " dense_11 (Dense)            (None, 1)                 151       \n",
      "                                                                 \n",
      "=================================================================\n",
      "Total params: 91,351\n",
      "Trainable params: 91,351\n",
      "Non-trainable params: 0\n",
      "_________________________________________________________________\n"
     ]
    }
   ],
   "source": [
    "new_model.summary()"
   ]
  },
  {
   "cell_type": "code",
   "execution_count": null,
   "id": "458b0318",
   "metadata": {},
   "outputs": [],
   "source": []
  }
 ],
 "metadata": {
  "kernelspec": {
   "display_name": "Python 3 (ipykernel)",
   "language": "python",
   "name": "python3"
  },
  "language_info": {
   "codemirror_mode": {
    "name": "ipython",
    "version": 3
   },
   "file_extension": ".py",
   "mimetype": "text/x-python",
   "name": "python",
   "nbconvert_exporter": "python",
   "pygments_lexer": "ipython3",
   "version": "3.7.9"
  }
 },
 "nbformat": 4,
 "nbformat_minor": 5
}
